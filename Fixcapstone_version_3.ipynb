{
  "cells": [
    {
      "cell_type": "code",
      "execution_count": 223,
      "metadata": {
        "id": "yGCDbLZPzdHp",
        "colab": {
          "base_uri": "https://localhost:8080/"
        },
        "outputId": "14d59353-d36b-47a5-bb06-fb941bf6b92c"
      },
      "outputs": [
        {
          "output_type": "stream",
          "name": "stdout",
          "text": [
            "Drive already mounted at /content/drive; to attempt to forcibly remount, call drive.mount(\"/content/drive\", force_remount=True).\n"
          ]
        }
      ],
      "source": [
        "from google.colab import drive\n",
        "drive.mount('/content/drive')"
      ]
    },
    {
      "cell_type": "code",
      "execution_count": 224,
      "metadata": {
        "id": "DxXN443c2lSD"
      },
      "outputs": [],
      "source": [
        "import tensorflow.compat.v1 as tf\n",
        "tf.disable_v2_behavior()\n",
        "from sklearn.preprocessing import LabelEncoder, LabelBinarizer\n",
        "from sklearn.model_selection import train_test_split\n",
        "import pandas as pd\n",
        "import numpy as np\n",
        "from tensorflow.keras.models import Sequential\n",
        "from tensorflow.keras.layers import Dense\n",
        "from datetime import datetime"
      ]
    },
    {
      "cell_type": "code",
      "execution_count": 225,
      "metadata": {
        "id": "fxcrCVaM2W-Y"
      },
      "outputs": [],
      "source": [
        "data=pd.read_csv('/content/drive/MyDrive/bangkit 3/dataset_penggunafull2.csv')\n",
        "# Convert the DataFrame to a dictionary\n",
        "#food_database = food_data.to_dict(orient='index')"
      ]
    },
    {
      "cell_type": "code",
      "source": [
        "data"
      ],
      "metadata": {
        "colab": {
          "base_uri": "https://localhost:8080/",
          "height": 676
        },
        "id": "59YtYXB5rzWH",
        "outputId": "badba693-e951-4249-f1d7-92e35a2b01a9"
      },
      "execution_count": 226,
      "outputs": [
        {
          "output_type": "execute_result",
          "data": {
            "text/plain": [
              "     Kode User  Usia  BB   TB Jenis Kelamin Riwayat Penyakit Riwayat Alergi  \\\n",
              "0            1    10  25  110             L             Maag         Kacang   \n",
              "1            2    20  55  150             P         Diabetes          Udang   \n",
              "2            3    30  58  155             L             Maag        Seafood   \n",
              "3            4    40  60  160             P         Diabetes              -   \n",
              "4            5    50  49  148             L                -              -   \n",
              "..         ...   ...  ..  ...           ...              ...            ...   \n",
              "200        201    41  83  180             L                -              -   \n",
              "201        202    46  85  182             P             maag      Susu Sapi   \n",
              "202        203    48  83  178             L                -          Udang   \n",
              "203        204    42  73  175             P             maag              -   \n",
              "204        205    44  86  183             L         diabetes         Kerang   \n",
              "\n",
              "              Faktor Aktivitas       Faktor Stress      rekomendasi breakfast  \\\n",
              "0    Istirahat di tempat tidur     Tidak Ada stres       Soto madura, masakan   \n",
              "1                 Kerja ringan         Stres Berat                   GadoGado   \n",
              "2                  Kerja berat        Stres Sedang              Ketupat ketan   \n",
              "3                 Kerja ringan        Stres Sedang                  Sate Ayam   \n",
              "4                  Kerja berat         Stres Berat                   Ketoprak   \n",
              "..                         ...                 ...                        ...   \n",
              "200               Kerja sedang  Stres Sangat Berat              Gulai kambing   \n",
              "201                Kerja berat        Stres Sedang        Gulai ikan, masakan   \n",
              "202         Kerja berat sekali        Stres Ringan         Ikan Mujahir pepes   \n",
              "203        Kerja sangat ringan        Stres Ringan                 Nasi gurih   \n",
              "204               Kerja ringan        Stres Sedang  Ayam goreng pioneer, dada   \n",
              "\n",
              "              rekomendasi lunch          rekomendasi dinner  \\\n",
              "0    Jagung kuning pipil, rebus        Soto jeroan, masakan   \n",
              "1                      Nasi tim         Soto kudus, masakan   \n",
              "2          Sop kambing, masakan      Beef teriyaki, masakan   \n",
              "3                     Sate Ayam                  Nasi gurih   \n",
              "4             Mie pangsit basah      Ayam taliwang, masakan   \n",
              "..                          ...                         ...   \n",
              "200         Ketan hitam, matang                      Pempek   \n",
              "201  Ayam goreng pasundan, dada  Jagung kuning pipil, rebus   \n",
              "202   Ayam goreng pioneer, dada  Ayam goreng sukabumi, dada   \n",
              "203  Ayam goreng Kentucky, paha          Sop konro, masakan   \n",
              "204  Telur ayam, dadar, masakan              Pempek kelesan   \n",
              "\n",
              "             rekomendasi snack pagi     rekomendasi snack siang  \n",
              "0                      Bayam, rebus                Salak, segar  \n",
              "1             Asinan Bogor, sayuran          Pisang tujuh bulan  \n",
              "2        Daun kacang panjang, kukus          Paria putih, kukus  \n",
              "3                  Susu sapi, segar           Daun katuk, rebus  \n",
              "4              Daun singkong, rebus                Matoa, segar  \n",
              "..                              ...                         ...  \n",
              "200            Daun singkong, rebus               Buncis, rebus  \n",
              "201               Sawo duren, segar        Mentimun Suri, segar  \n",
              "202            Daun singkong, rebus  Daun kacang panjang, kukus  \n",
              "203                   Wortel, kukus                Taoge, seduh  \n",
              "204  Pisang mas bali ampenan, segar                Bayam, rebus  \n",
              "\n",
              "[205 rows x 14 columns]"
            ],
            "text/html": [
              "\n",
              "  <div id=\"df-029aece8-6a79-4447-953c-11a87bf4c2b0\">\n",
              "    <div class=\"colab-df-container\">\n",
              "      <div>\n",
              "<style scoped>\n",
              "    .dataframe tbody tr th:only-of-type {\n",
              "        vertical-align: middle;\n",
              "    }\n",
              "\n",
              "    .dataframe tbody tr th {\n",
              "        vertical-align: top;\n",
              "    }\n",
              "\n",
              "    .dataframe thead th {\n",
              "        text-align: right;\n",
              "    }\n",
              "</style>\n",
              "<table border=\"1\" class=\"dataframe\">\n",
              "  <thead>\n",
              "    <tr style=\"text-align: right;\">\n",
              "      <th></th>\n",
              "      <th>Kode User</th>\n",
              "      <th>Usia</th>\n",
              "      <th>BB</th>\n",
              "      <th>TB</th>\n",
              "      <th>Jenis Kelamin</th>\n",
              "      <th>Riwayat Penyakit</th>\n",
              "      <th>Riwayat Alergi</th>\n",
              "      <th>Faktor Aktivitas</th>\n",
              "      <th>Faktor Stress</th>\n",
              "      <th>rekomendasi breakfast</th>\n",
              "      <th>rekomendasi lunch</th>\n",
              "      <th>rekomendasi dinner</th>\n",
              "      <th>rekomendasi snack pagi</th>\n",
              "      <th>rekomendasi snack siang</th>\n",
              "    </tr>\n",
              "  </thead>\n",
              "  <tbody>\n",
              "    <tr>\n",
              "      <th>0</th>\n",
              "      <td>1</td>\n",
              "      <td>10</td>\n",
              "      <td>25</td>\n",
              "      <td>110</td>\n",
              "      <td>L</td>\n",
              "      <td>Maag</td>\n",
              "      <td>Kacang</td>\n",
              "      <td>Istirahat di tempat tidur</td>\n",
              "      <td>Tidak Ada stres</td>\n",
              "      <td>Soto madura, masakan</td>\n",
              "      <td>Jagung kuning pipil, rebus</td>\n",
              "      <td>Soto jeroan, masakan</td>\n",
              "      <td>Bayam, rebus</td>\n",
              "      <td>Salak, segar</td>\n",
              "    </tr>\n",
              "    <tr>\n",
              "      <th>1</th>\n",
              "      <td>2</td>\n",
              "      <td>20</td>\n",
              "      <td>55</td>\n",
              "      <td>150</td>\n",
              "      <td>P</td>\n",
              "      <td>Diabetes</td>\n",
              "      <td>Udang</td>\n",
              "      <td>Kerja ringan</td>\n",
              "      <td>Stres Berat</td>\n",
              "      <td>GadoGado</td>\n",
              "      <td>Nasi tim</td>\n",
              "      <td>Soto kudus, masakan</td>\n",
              "      <td>Asinan Bogor, sayuran</td>\n",
              "      <td>Pisang tujuh bulan</td>\n",
              "    </tr>\n",
              "    <tr>\n",
              "      <th>2</th>\n",
              "      <td>3</td>\n",
              "      <td>30</td>\n",
              "      <td>58</td>\n",
              "      <td>155</td>\n",
              "      <td>L</td>\n",
              "      <td>Maag</td>\n",
              "      <td>Seafood</td>\n",
              "      <td>Kerja berat</td>\n",
              "      <td>Stres Sedang</td>\n",
              "      <td>Ketupat ketan</td>\n",
              "      <td>Sop kambing, masakan</td>\n",
              "      <td>Beef teriyaki, masakan</td>\n",
              "      <td>Daun kacang panjang, kukus</td>\n",
              "      <td>Paria putih, kukus</td>\n",
              "    </tr>\n",
              "    <tr>\n",
              "      <th>3</th>\n",
              "      <td>4</td>\n",
              "      <td>40</td>\n",
              "      <td>60</td>\n",
              "      <td>160</td>\n",
              "      <td>P</td>\n",
              "      <td>Diabetes</td>\n",
              "      <td>-</td>\n",
              "      <td>Kerja ringan</td>\n",
              "      <td>Stres Sedang</td>\n",
              "      <td>Sate Ayam</td>\n",
              "      <td>Sate Ayam</td>\n",
              "      <td>Nasi gurih</td>\n",
              "      <td>Susu sapi, segar</td>\n",
              "      <td>Daun katuk, rebus</td>\n",
              "    </tr>\n",
              "    <tr>\n",
              "      <th>4</th>\n",
              "      <td>5</td>\n",
              "      <td>50</td>\n",
              "      <td>49</td>\n",
              "      <td>148</td>\n",
              "      <td>L</td>\n",
              "      <td>-</td>\n",
              "      <td>-</td>\n",
              "      <td>Kerja berat</td>\n",
              "      <td>Stres Berat</td>\n",
              "      <td>Ketoprak</td>\n",
              "      <td>Mie pangsit basah</td>\n",
              "      <td>Ayam taliwang, masakan</td>\n",
              "      <td>Daun singkong, rebus</td>\n",
              "      <td>Matoa, segar</td>\n",
              "    </tr>\n",
              "    <tr>\n",
              "      <th>...</th>\n",
              "      <td>...</td>\n",
              "      <td>...</td>\n",
              "      <td>...</td>\n",
              "      <td>...</td>\n",
              "      <td>...</td>\n",
              "      <td>...</td>\n",
              "      <td>...</td>\n",
              "      <td>...</td>\n",
              "      <td>...</td>\n",
              "      <td>...</td>\n",
              "      <td>...</td>\n",
              "      <td>...</td>\n",
              "      <td>...</td>\n",
              "      <td>...</td>\n",
              "    </tr>\n",
              "    <tr>\n",
              "      <th>200</th>\n",
              "      <td>201</td>\n",
              "      <td>41</td>\n",
              "      <td>83</td>\n",
              "      <td>180</td>\n",
              "      <td>L</td>\n",
              "      <td>-</td>\n",
              "      <td>-</td>\n",
              "      <td>Kerja sedang</td>\n",
              "      <td>Stres Sangat Berat</td>\n",
              "      <td>Gulai kambing</td>\n",
              "      <td>Ketan hitam, matang</td>\n",
              "      <td>Pempek</td>\n",
              "      <td>Daun singkong, rebus</td>\n",
              "      <td>Buncis, rebus</td>\n",
              "    </tr>\n",
              "    <tr>\n",
              "      <th>201</th>\n",
              "      <td>202</td>\n",
              "      <td>46</td>\n",
              "      <td>85</td>\n",
              "      <td>182</td>\n",
              "      <td>P</td>\n",
              "      <td>maag</td>\n",
              "      <td>Susu Sapi</td>\n",
              "      <td>Kerja berat</td>\n",
              "      <td>Stres Sedang</td>\n",
              "      <td>Gulai ikan, masakan</td>\n",
              "      <td>Ayam goreng pasundan, dada</td>\n",
              "      <td>Jagung kuning pipil, rebus</td>\n",
              "      <td>Sawo duren, segar</td>\n",
              "      <td>Mentimun Suri, segar</td>\n",
              "    </tr>\n",
              "    <tr>\n",
              "      <th>202</th>\n",
              "      <td>203</td>\n",
              "      <td>48</td>\n",
              "      <td>83</td>\n",
              "      <td>178</td>\n",
              "      <td>L</td>\n",
              "      <td>-</td>\n",
              "      <td>Udang</td>\n",
              "      <td>Kerja berat sekali</td>\n",
              "      <td>Stres Ringan</td>\n",
              "      <td>Ikan Mujahir pepes</td>\n",
              "      <td>Ayam goreng pioneer, dada</td>\n",
              "      <td>Ayam goreng sukabumi, dada</td>\n",
              "      <td>Daun singkong, rebus</td>\n",
              "      <td>Daun kacang panjang, kukus</td>\n",
              "    </tr>\n",
              "    <tr>\n",
              "      <th>203</th>\n",
              "      <td>204</td>\n",
              "      <td>42</td>\n",
              "      <td>73</td>\n",
              "      <td>175</td>\n",
              "      <td>P</td>\n",
              "      <td>maag</td>\n",
              "      <td>-</td>\n",
              "      <td>Kerja sangat ringan</td>\n",
              "      <td>Stres Ringan</td>\n",
              "      <td>Nasi gurih</td>\n",
              "      <td>Ayam goreng Kentucky, paha</td>\n",
              "      <td>Sop konro, masakan</td>\n",
              "      <td>Wortel, kukus</td>\n",
              "      <td>Taoge, seduh</td>\n",
              "    </tr>\n",
              "    <tr>\n",
              "      <th>204</th>\n",
              "      <td>205</td>\n",
              "      <td>44</td>\n",
              "      <td>86</td>\n",
              "      <td>183</td>\n",
              "      <td>L</td>\n",
              "      <td>diabetes</td>\n",
              "      <td>Kerang</td>\n",
              "      <td>Kerja ringan</td>\n",
              "      <td>Stres Sedang</td>\n",
              "      <td>Ayam goreng pioneer, dada</td>\n",
              "      <td>Telur ayam, dadar, masakan</td>\n",
              "      <td>Pempek kelesan</td>\n",
              "      <td>Pisang mas bali ampenan, segar</td>\n",
              "      <td>Bayam, rebus</td>\n",
              "    </tr>\n",
              "  </tbody>\n",
              "</table>\n",
              "<p>205 rows × 14 columns</p>\n",
              "</div>\n",
              "      <button class=\"colab-df-convert\" onclick=\"convertToInteractive('df-029aece8-6a79-4447-953c-11a87bf4c2b0')\"\n",
              "              title=\"Convert this dataframe to an interactive table.\"\n",
              "              style=\"display:none;\">\n",
              "        \n",
              "  <svg xmlns=\"http://www.w3.org/2000/svg\" height=\"24px\"viewBox=\"0 0 24 24\"\n",
              "       width=\"24px\">\n",
              "    <path d=\"M0 0h24v24H0V0z\" fill=\"none\"/>\n",
              "    <path d=\"M18.56 5.44l.94 2.06.94-2.06 2.06-.94-2.06-.94-.94-2.06-.94 2.06-2.06.94zm-11 1L8.5 8.5l.94-2.06 2.06-.94-2.06-.94L8.5 2.5l-.94 2.06-2.06.94zm10 10l.94 2.06.94-2.06 2.06-.94-2.06-.94-.94-2.06-.94 2.06-2.06.94z\"/><path d=\"M17.41 7.96l-1.37-1.37c-.4-.4-.92-.59-1.43-.59-.52 0-1.04.2-1.43.59L10.3 9.45l-7.72 7.72c-.78.78-.78 2.05 0 2.83L4 21.41c.39.39.9.59 1.41.59.51 0 1.02-.2 1.41-.59l7.78-7.78 2.81-2.81c.8-.78.8-2.07 0-2.86zM5.41 20L4 18.59l7.72-7.72 1.47 1.35L5.41 20z\"/>\n",
              "  </svg>\n",
              "      </button>\n",
              "      \n",
              "  <style>\n",
              "    .colab-df-container {\n",
              "      display:flex;\n",
              "      flex-wrap:wrap;\n",
              "      gap: 12px;\n",
              "    }\n",
              "\n",
              "    .colab-df-convert {\n",
              "      background-color: #E8F0FE;\n",
              "      border: none;\n",
              "      border-radius: 50%;\n",
              "      cursor: pointer;\n",
              "      display: none;\n",
              "      fill: #1967D2;\n",
              "      height: 32px;\n",
              "      padding: 0 0 0 0;\n",
              "      width: 32px;\n",
              "    }\n",
              "\n",
              "    .colab-df-convert:hover {\n",
              "      background-color: #E2EBFA;\n",
              "      box-shadow: 0px 1px 2px rgba(60, 64, 67, 0.3), 0px 1px 3px 1px rgba(60, 64, 67, 0.15);\n",
              "      fill: #174EA6;\n",
              "    }\n",
              "\n",
              "    [theme=dark] .colab-df-convert {\n",
              "      background-color: #3B4455;\n",
              "      fill: #D2E3FC;\n",
              "    }\n",
              "\n",
              "    [theme=dark] .colab-df-convert:hover {\n",
              "      background-color: #434B5C;\n",
              "      box-shadow: 0px 1px 3px 1px rgba(0, 0, 0, 0.15);\n",
              "      filter: drop-shadow(0px 1px 2px rgba(0, 0, 0, 0.3));\n",
              "      fill: #FFFFFF;\n",
              "    }\n",
              "  </style>\n",
              "\n",
              "      <script>\n",
              "        const buttonEl =\n",
              "          document.querySelector('#df-029aece8-6a79-4447-953c-11a87bf4c2b0 button.colab-df-convert');\n",
              "        buttonEl.style.display =\n",
              "          google.colab.kernel.accessAllowed ? 'block' : 'none';\n",
              "\n",
              "        async function convertToInteractive(key) {\n",
              "          const element = document.querySelector('#df-029aece8-6a79-4447-953c-11a87bf4c2b0');\n",
              "          const dataTable =\n",
              "            await google.colab.kernel.invokeFunction('convertToInteractive',\n",
              "                                                     [key], {});\n",
              "          if (!dataTable) return;\n",
              "\n",
              "          const docLinkHtml = 'Like what you see? Visit the ' +\n",
              "            '<a target=\"_blank\" href=https://colab.research.google.com/notebooks/data_table.ipynb>data table notebook</a>'\n",
              "            + ' to learn more about interactive tables.';\n",
              "          element.innerHTML = '';\n",
              "          dataTable['output_type'] = 'display_data';\n",
              "          await google.colab.output.renderOutput(dataTable, element);\n",
              "          const docLink = document.createElement('div');\n",
              "          docLink.innerHTML = docLinkHtml;\n",
              "          element.appendChild(docLink);\n",
              "        }\n",
              "      </script>\n",
              "    </div>\n",
              "  </div>\n",
              "  "
            ]
          },
          "metadata": {},
          "execution_count": 226
        }
      ]
    },
    {
      "cell_type": "markdown",
      "source": [
        "### **Read Data From Dataset**"
      ],
      "metadata": {
        "id": "yGbEuTzTi4uD"
      }
    },
    {
      "cell_type": "code",
      "source": [
        "# Encode Categorical Variabels\n",
        "LabelEncoder = LabelEncoder()\n",
        "data['Jenis Kelamin'] = LabelEncoder.fit_transform(data['Jenis Kelamin'])\n",
        "data['Riwayat Penyakit'] = LabelEncoder.fit_transform(data['Riwayat Penyakit'])\n",
        "data['Riwayat Alergi'] = LabelEncoder.fit_transform(data['Riwayat Alergi'])\n",
        "data['Faktor Aktivitas'] = LabelEncoder.fit_transform(data['Faktor Aktivitas'])\n",
        "data['Faktor Stress'] = LabelEncoder.fit_transform(data['Faktor Stress'])"
      ],
      "metadata": {
        "id": "M8uHOJMbVJ5J"
      },
      "execution_count": 227,
      "outputs": []
    },
    {
      "cell_type": "markdown",
      "source": [
        "## **Breakfast Recomendation**"
      ],
      "metadata": {
        "id": "7smwKNdcjA0b"
      }
    },
    {
      "cell_type": "code",
      "source": [
        "# Encode Rekomendasi Breakfast\n",
        "LabelBinarizer1 = LabelBinarizer()\n",
        "RekomendasiEncoded1 = LabelBinarizer1.fit_transform(data['rekomendasi breakfast'])"
      ],
      "metadata": {
        "id": "HWe-5_vkjRz7"
      },
      "execution_count": 228,
      "outputs": []
    },
    {
      "cell_type": "code",
      "source": [
        "# Combine features dan labels\n",
        "Features1 = data[['Usia', 'BB', 'TB', 'Jenis Kelamin', 'Riwayat Penyakit', 'Riwayat Alergi', 'Faktor Aktivitas', 'Faktor Stress']]\n",
        "Labels1 = RekomendasiEncoded1"
      ],
      "metadata": {
        "id": "bVatRN-TjVI6"
      },
      "execution_count": 229,
      "outputs": []
    },
    {
      "cell_type": "code",
      "source": [
        "# Split data into training and testing sets\n",
        "train_features, test_features, train_labels, test_labels = train_test_split(\n",
        "    Features1, Labels1, test_size=0.2, random_state=42\n",
        ")"
      ],
      "metadata": {
        "id": "OO3eDX4zjXmA"
      },
      "execution_count": 230,
      "outputs": []
    },
    {
      "cell_type": "code",
      "source": [
        "# Make model\n",
        "model1 = tf.keras.Sequential([\n",
        "    tf.keras.layers.Dense(64, activation='relu', input_shape=(8,)),\n",
        "    tf.keras.layers.Dense(64, activation='relu'),\n",
        "    tf.keras.layers.Dense(len(LabelBinarizer1.classes_), activation='softmax')\n",
        "])"
      ],
      "metadata": {
        "id": "Jv4IkVhXjZZ-"
      },
      "execution_count": 231,
      "outputs": []
    },
    {
      "cell_type": "code",
      "source": [
        "# Compile model\n",
        "model1.compile(optimizer='adam', loss='categorical_crossentropy')"
      ],
      "metadata": {
        "id": "xYdCkD6UjcAT"
      },
      "execution_count": 232,
      "outputs": []
    },
    {
      "cell_type": "code",
      "source": [
        "# Train model\n",
        "model1.fit(train_features, train_labels, epochs=10, batch_size=32)"
      ],
      "metadata": {
        "colab": {
          "base_uri": "https://localhost:8080/"
        },
        "id": "nZpOEvlrjduo",
        "outputId": "10cb7eaa-a89e-47c8-fb1b-906eedf5f02d"
      },
      "execution_count": 233,
      "outputs": [
        {
          "output_type": "stream",
          "name": "stdout",
          "text": [
            "Train on 164 samples\n",
            "Epoch 1/10\n",
            "164/164 [==============================] - 1s 3ms/sample - loss: 23.2279\n",
            "Epoch 2/10\n",
            "164/164 [==============================] - 0s 154us/sample - loss: 14.8257\n",
            "Epoch 3/10\n",
            "164/164 [==============================] - 0s 166us/sample - loss: 10.1532\n",
            "Epoch 4/10\n",
            "164/164 [==============================] - 0s 184us/sample - loss: 8.0856\n",
            "Epoch 5/10\n",
            "164/164 [==============================] - 0s 252us/sample - loss: 6.5166\n",
            "Epoch 6/10\n",
            "164/164 [==============================] - 0s 130us/sample - loss: 5.7455\n",
            "Epoch 7/10\n",
            "164/164 [==============================] - 0s 157us/sample - loss: 5.3539\n",
            "Epoch 8/10\n",
            "164/164 [==============================] - 0s 173us/sample - loss: 4.9118\n",
            "Epoch 9/10\n",
            "164/164 [==============================] - 0s 161us/sample - loss: 4.7347\n",
            "Epoch 10/10\n",
            "164/164 [==============================] - 0s 174us/sample - loss: 4.5625\n"
          ]
        },
        {
          "output_type": "execute_result",
          "data": {
            "text/plain": [
              "<keras.callbacks.History at 0x7f2d6bc39ba0>"
            ]
          },
          "metadata": {},
          "execution_count": 233
        }
      ]
    },
    {
      "cell_type": "code",
      "execution_count": 234,
      "metadata": {
        "id": "--8WHDIqzTK9"
      },
      "outputs": [],
      "source": [
        "from sklearn.preprocessing import LabelEncoder\n",
        "def BreakfastRecomendation(new_users):\n",
        "    RecomendationBreakfast = []\n",
        "    label_encoder = LabelEncoder()\n",
        "    \n",
        "    for NewUser in new_users:\n",
        "        # Process New User\n",
        "        NewUser['Jenis Kelamin'] = label_encoder.fit_transform([NewUser['Jenis Kelamin']])[0]\n",
        "        NewUser['Riwayat Penyakit'] = label_encoder.fit_transform([NewUser['Riwayat Penyakit']])[0]\n",
        "        NewUser['Riwayat Alergi'] = label_encoder.fit_transform([NewUser['Riwayat Alergi']])[0]\n",
        "        NewUser['Faktor Aktivitas'] = label_encoder.fit_transform([NewUser['Faktor Aktivitas']])[0]\n",
        "        NewUser['Faktor Stress'] = label_encoder.fit_transform([NewUser['Faktor Stress']])[0]\n",
        "        NewUser['dislike_food'] = label_encoder.fit_transform([NewUser['dislike_food']])[0]\n",
        "      \n",
        "\n",
        "        # Calculate age\n",
        "        tanggal_lahir = NewUser['tanggal_lahir']\n",
        "        tanggal_sekarang = datetime.now().date()\n",
        "        tanggal_lahir = datetime.strptime(tanggal_lahir, '%d-%m-%Y').date()\n",
        "        selisih = tanggal_sekarang - tanggal_lahir\n",
        "        umur_tahun = selisih.days // 365\n",
        "\n",
        "        NewUser['Usia'] = umur_tahun\n",
        "\n",
        "        # Remove Column New User\n",
        "        new_user_features = np.array([\n",
        "            NewUser['Usia'],\n",
        "            NewUser['BB'],\n",
        "            NewUser['TB'],\n",
        "            NewUser['Jenis Kelamin'],\n",
        "            NewUser['Riwayat Penyakit'],\n",
        "            NewUser['Riwayat Alergi'],\n",
        "            NewUser['Faktor Aktivitas'],\n",
        "            NewUser['Faktor Stress']\n",
        "        ])\n",
        "        \n",
        "        # Give Recomendation\n",
        "        RecomendationBreakfast.append(model1.predict(np.array([new_user_features]))[0])\n",
        "    \n",
        "    recommended_foods1 = []\n",
        "    for RecomendationBreakfast, NewUser in zip(RecomendationBreakfast, new_users):\n",
        "        recommended_food_index1 = np.argmax(RecomendationBreakfast)\n",
        "        recommended_food1 = LabelBinarizer1.classes_[recommended_food_index1]\n",
        "        \n",
        "        # Exclude dislike foods\n",
        "        if recommended_food1 == NewUser['dislike_food']:\n",
        "            # Regenerate Recomendation\n",
        "            RecomendationBreakfast[recommended_food_index1] = -np.inf\n",
        "            SecondHighestIndex1 = np.argmax(RecomendationBreakfast)\n",
        "            recommended_food1 = LabelBinarizer1.classes_[SecondHighestIndex1]\n",
        "        \n",
        "        recommended_foods1.append(recommended_food1)\n",
        "    \n",
        "    return recommended_foods1\n"
      ]
    },
    {
      "cell_type": "code",
      "source": [
        "new_users = [\n",
        "    {\n",
        "        'tanggal_lahir': '01-10-2002',\n",
        "        'BB': 58.2,\n",
        "        'TB': 160.3,\n",
        "        'Jenis Kelamin': 'L',\n",
        "        'Riwayat Penyakit': 'Klorestorol',\n",
        "        'Riwayat Alergi': 'Kerang',\n",
        "        'Faktor Aktivitas': 'Kerja ringan',\n",
        "        'Faktor Stress': 'Stres Sedang',\n",
        "        'dislike_food': 'kacang'\n",
        "    }\n",
        "]"
      ],
      "metadata": {
        "id": "dHuoCYCHbY-6"
      },
      "execution_count": 235,
      "outputs": []
    },
    {
      "cell_type": "code",
      "source": [
        "RecommendedBreakfast = BreakfastRecomendation(new_users)\n",
        "print(\"Recommended Breakfast:\", RecommendedBreakfast)"
      ],
      "metadata": {
        "colab": {
          "base_uri": "https://localhost:8080/"
        },
        "id": "yPcjw1XKkeeE",
        "outputId": "f471f7d3-1b36-47e7-fd56-5c1dee6f9ff5"
      },
      "execution_count": 236,
      "outputs": [
        {
          "output_type": "stream",
          "name": "stderr",
          "text": [
            "/usr/local/lib/python3.10/dist-packages/keras/engine/training_v1.py:2359: UserWarning: `Model.state_updates` will be removed in a future version. This property should not be used in TensorFlow 2.0, as `updates` are applied automatically.\n",
            "  updates=self.state_updates,\n"
          ]
        },
        {
          "output_type": "stream",
          "name": "stdout",
          "text": [
            "Recommended Breakfast: ['Jagung kuning pipil, rebus']\n"
          ]
        }
      ]
    },
    {
      "cell_type": "markdown",
      "source": [
        "## **LUNCH**"
      ],
      "metadata": {
        "id": "VXHB2bxHlmWu"
      }
    },
    {
      "cell_type": "code",
      "source": [
        "# Encode Rekomendasi Breakfast\n",
        "LabelBinarizer2 = LabelBinarizer()\n",
        "RekomendasiEncoded2 = LabelBinarizer2.fit_transform(data['rekomendasi lunch'])"
      ],
      "metadata": {
        "id": "ItX3UxZ4mrcu"
      },
      "execution_count": 237,
      "outputs": []
    },
    {
      "cell_type": "code",
      "source": [
        "# Combine features dan labels\n",
        "Features2 = data[['Usia', 'BB', 'TB', 'Jenis Kelamin', 'Riwayat Penyakit', 'Riwayat Alergi', 'Faktor Aktivitas', 'Faktor Stress']]\n",
        "Labels2 = RekomendasiEncoded2"
      ],
      "metadata": {
        "id": "C2VkNZAcmw68"
      },
      "execution_count": 238,
      "outputs": []
    },
    {
      "cell_type": "code",
      "source": [
        "# Split data into training and testing sets\n",
        "train_features, test_features, train_labels, test_labels = train_test_split(\n",
        "    Features2, Labels2, test_size=0.2, random_state=42\n",
        ")"
      ],
      "metadata": {
        "id": "RlhYsjjFm7l_"
      },
      "execution_count": 239,
      "outputs": []
    },
    {
      "cell_type": "code",
      "source": [
        "# Make model\n",
        "model2 = tf.keras.Sequential([\n",
        "    tf.keras.layers.Dense(64, activation='relu', input_shape=(8,)),\n",
        "    tf.keras.layers.Dense(64, activation='relu'),\n",
        "    tf.keras.layers.Dense(len(LabelBinarizer2.classes_), activation='softmax')\n",
        "])"
      ],
      "metadata": {
        "id": "zdnpT2vjnBwf"
      },
      "execution_count": 240,
      "outputs": []
    },
    {
      "cell_type": "code",
      "source": [
        "# Compile model\n",
        "model2.compile(optimizer='adam', loss='categorical_crossentropy')"
      ],
      "metadata": {
        "id": "bu9SvXWDnHpX"
      },
      "execution_count": 241,
      "outputs": []
    },
    {
      "cell_type": "code",
      "source": [
        "# Train model\n",
        "model2.fit(train_features, train_labels, epochs=10, batch_size=32)"
      ],
      "metadata": {
        "id": "sTe7G3GCnLb4",
        "outputId": "b1126b9d-7c66-4668-897e-638bbf053074",
        "colab": {
          "base_uri": "https://localhost:8080/"
        }
      },
      "execution_count": 242,
      "outputs": [
        {
          "output_type": "stream",
          "name": "stdout",
          "text": [
            "Train on 164 samples\n",
            "Epoch 1/10\n",
            "164/164 [==============================] - 1s 4ms/sample - loss: 29.5814\n",
            "Epoch 2/10\n",
            "164/164 [==============================] - 0s 176us/sample - loss: 18.0300\n",
            "Epoch 3/10\n",
            "164/164 [==============================] - 0s 166us/sample - loss: 13.0027\n",
            "Epoch 4/10\n",
            "164/164 [==============================] - 0s 146us/sample - loss: 9.4040\n",
            "Epoch 5/10\n",
            "164/164 [==============================] - 0s 138us/sample - loss: 7.8682\n",
            "Epoch 6/10\n",
            "164/164 [==============================] - 0s 213us/sample - loss: 6.6527\n",
            "Epoch 7/10\n",
            "164/164 [==============================] - 0s 167us/sample - loss: 6.1026\n",
            "Epoch 8/10\n",
            "164/164 [==============================] - 0s 171us/sample - loss: 5.5866\n",
            "Epoch 9/10\n",
            "164/164 [==============================] - 0s 182us/sample - loss: 5.1713\n",
            "Epoch 10/10\n",
            "164/164 [==============================] - 0s 189us/sample - loss: 4.9263\n"
          ]
        },
        {
          "output_type": "execute_result",
          "data": {
            "text/plain": [
              "<keras.callbacks.History at 0x7f2d6beabe80>"
            ]
          },
          "metadata": {},
          "execution_count": 242
        }
      ]
    },
    {
      "cell_type": "code",
      "source": [
        "def LunchRecomendation(new_users):\n",
        "    RecomendationLunch = []\n",
        "    label_encoder = LabelEncoder()\n",
        "    \n",
        "    for NewUser in new_users:\n",
        "        # Process New User\n",
        "        NewUser['Jenis Kelamin'] = label_encoder.fit_transform([NewUser['Jenis Kelamin']])[0]\n",
        "        NewUser['Riwayat Penyakit'] = label_encoder.fit_transform([NewUser['Riwayat Penyakit']])[0]\n",
        "        NewUser['Riwayat Alergi'] = label_encoder.fit_transform([NewUser['Riwayat Alergi']])[0]\n",
        "        NewUser['Faktor Aktivitas'] = label_encoder.fit_transform([NewUser['Faktor Aktivitas']])[0]\n",
        "        NewUser['Faktor Stress'] = label_encoder.fit_transform([NewUser['Faktor Stress']])[0]\n",
        "        NewUser['dislike_food'] = label_encoder.fit_transform([NewUser['dislike_food']])[0]\n",
        "      \n",
        "\n",
        "        # Calculate age\n",
        "        tanggal_lahir = NewUser['tanggal_lahir']\n",
        "        tanggal_sekarang = datetime.now().date()\n",
        "        tanggal_lahir = datetime.strptime(tanggal_lahir, '%d-%m-%Y').date()\n",
        "        selisih = tanggal_sekarang - tanggal_lahir\n",
        "        umur_tahun = selisih.days // 365\n",
        "\n",
        "        NewUser['Usia'] = umur_tahun\n",
        "\n",
        "\n",
        "        # Remove Column New User\n",
        "        new_user_features = np.array([\n",
        "            NewUser['Usia'],\n",
        "            NewUser['BB'],\n",
        "            NewUser['TB'],\n",
        "            NewUser['Jenis Kelamin'],\n",
        "            NewUser['Riwayat Penyakit'],\n",
        "            NewUser['Riwayat Alergi'],\n",
        "            NewUser['Faktor Aktivitas'],\n",
        "            NewUser['Faktor Stress']\n",
        "        ])\n",
        "        \n",
        "        # Give Recomendation\n",
        "        RecomendationLunch.append(model2.predict(np.array([new_user_features]))[0])\n",
        "    \n",
        "    recommended_foods2 = []\n",
        "    for RecomendationLunch, NewUser in zip(RecomendationLunch, new_users):\n",
        "        recommended_food_index2 = np.argmax(RecomendationLunch)\n",
        "        recommended_food2 = LabelBinarizer2.classes_[recommended_food_index2]\n",
        "        \n",
        "        # Exclude dislike foods\n",
        "        if recommended_food2 == NewUser['dislike_food']:\n",
        "            # Regenerate Recomendation\n",
        "            RecomendationLunch[recommended_food_index2] = -np.inf\n",
        "            SecondHighestIndex2 = np.argmax(RecomendationLunch)\n",
        "            recommended_food2 = LabelBinarizer2.classes_[SecondHighestIndex2]\n",
        "        \n",
        "        recommended_foods2.append(recommended_food2)\n",
        "    \n",
        "    return recommended_foods2\n"
      ],
      "metadata": {
        "id": "nYw50fGZtuub"
      },
      "execution_count": 243,
      "outputs": []
    },
    {
      "cell_type": "code",
      "source": [
        "RecommendedLunch = LunchRecomendation(new_users)\n",
        "print(\"Recommended Lunch:\", RecommendedLunch)"
      ],
      "metadata": {
        "colab": {
          "base_uri": "https://localhost:8080/"
        },
        "id": "VzzkpQYUl11t",
        "outputId": "4d92faf3-e313-44f2-c9cf-eb1146a3935b"
      },
      "execution_count": 244,
      "outputs": [
        {
          "output_type": "stream",
          "name": "stderr",
          "text": [
            "/usr/local/lib/python3.10/dist-packages/keras/engine/training_v1.py:2359: UserWarning: `Model.state_updates` will be removed in a future version. This property should not be used in TensorFlow 2.0, as `updates` are applied automatically.\n",
            "  updates=self.state_updates,\n"
          ]
        },
        {
          "output_type": "stream",
          "name": "stdout",
          "text": [
            "Recommended Lunch: ['Ayam goreng kentucky, dada']\n"
          ]
        }
      ]
    },
    {
      "cell_type": "markdown",
      "source": [
        "## **DINNER**"
      ],
      "metadata": {
        "id": "R6Hu6Hb0omLL"
      }
    },
    {
      "cell_type": "code",
      "source": [
        "# Encode Rekomendasi Breakfast\n",
        "LabelBinarizer3 = LabelBinarizer()\n",
        "RekomendasiEncoded3 = LabelBinarizer3.fit_transform(data['rekomendasi lunch'])"
      ],
      "metadata": {
        "id": "Cq5xqtbAosNf"
      },
      "execution_count": 245,
      "outputs": []
    },
    {
      "cell_type": "code",
      "source": [
        "# Combine features dan labels\n",
        "Features3 = data[['Usia', 'BB', 'TB', 'Jenis Kelamin', 'Riwayat Penyakit', 'Riwayat Alergi', 'Faktor Aktivitas', 'Faktor Stress']]\n",
        "Labels3 = RekomendasiEncoded3"
      ],
      "metadata": {
        "id": "GKYP80TDozp2"
      },
      "execution_count": 246,
      "outputs": []
    },
    {
      "cell_type": "code",
      "source": [
        "# Split data into training and testing sets\n",
        "train_features, test_features, train_labels, test_labels = train_test_split(\n",
        "    Features3, Labels3, test_size=0.2, random_state=42\n",
        ")"
      ],
      "metadata": {
        "id": "NkDagP8Do6Rm"
      },
      "execution_count": 247,
      "outputs": []
    },
    {
      "cell_type": "code",
      "source": [
        "# Make model\n",
        "model3 = tf.keras.Sequential([\n",
        "    tf.keras.layers.Dense(64, activation='relu', input_shape=(8,)),\n",
        "    tf.keras.layers.Dense(64, activation='relu'),\n",
        "    tf.keras.layers.Dense(len(LabelBinarizer3.classes_), activation='softmax')\n",
        "])"
      ],
      "metadata": {
        "id": "y5POa2yvo9JK"
      },
      "execution_count": 248,
      "outputs": []
    },
    {
      "cell_type": "code",
      "source": [
        "# Compile model\n",
        "model3.compile(optimizer='adam', loss='categorical_crossentropy')"
      ],
      "metadata": {
        "id": "dHHXVj86pEE5"
      },
      "execution_count": 249,
      "outputs": []
    },
    {
      "cell_type": "code",
      "source": [
        "# Train model\n",
        "model3.fit(train_features, train_labels, epochs=10, batch_size=32)"
      ],
      "metadata": {
        "colab": {
          "base_uri": "https://localhost:8080/"
        },
        "id": "5LlcgOwcpJ8A",
        "outputId": "f28866d2-88c1-4cdd-ecfa-6a9541823fba"
      },
      "execution_count": 250,
      "outputs": [
        {
          "output_type": "stream",
          "name": "stdout",
          "text": [
            "Train on 164 samples\n",
            "Epoch 1/10\n",
            "164/164 [==============================] - 1s 4ms/sample - loss: 30.6604\n",
            "Epoch 2/10\n",
            "164/164 [==============================] - 0s 174us/sample - loss: 17.5532\n",
            "Epoch 3/10\n",
            "164/164 [==============================] - 0s 178us/sample - loss: 12.4601\n",
            "Epoch 4/10\n",
            "164/164 [==============================] - 0s 167us/sample - loss: 9.6371\n",
            "Epoch 5/10\n",
            "164/164 [==============================] - 0s 159us/sample - loss: 7.7050\n",
            "Epoch 6/10\n",
            "164/164 [==============================] - 0s 199us/sample - loss: 6.4387\n",
            "Epoch 7/10\n",
            "164/164 [==============================] - 0s 185us/sample - loss: 5.7144\n",
            "Epoch 8/10\n",
            "164/164 [==============================] - 0s 148us/sample - loss: 5.2602\n",
            "Epoch 9/10\n",
            "164/164 [==============================] - 0s 156us/sample - loss: 5.0137\n",
            "Epoch 10/10\n",
            "164/164 [==============================] - 0s 127us/sample - loss: 4.8511\n"
          ]
        },
        {
          "output_type": "execute_result",
          "data": {
            "text/plain": [
              "<keras.callbacks.History at 0x7f2d6bd89750>"
            ]
          },
          "metadata": {},
          "execution_count": 250
        }
      ]
    },
    {
      "cell_type": "code",
      "source": [
        "def DinnerRecomendation(new_users):\n",
        "    RecomendationDinner = []\n",
        "    \n",
        "    label_encoder = LabelEncoder()\n",
        "    \n",
        "    for NewUser in new_users:\n",
        "        # Process New User\n",
        "        NewUser['Jenis Kelamin'] = label_encoder.fit_transform([NewUser['Jenis Kelamin']])[0]\n",
        "        NewUser['Riwayat Penyakit'] = label_encoder.fit_transform([NewUser['Riwayat Penyakit']])[0]\n",
        "        NewUser['Riwayat Alergi'] = label_encoder.fit_transform([NewUser['Riwayat Alergi']])[0]\n",
        "        NewUser['Faktor Aktivitas'] = label_encoder.fit_transform([NewUser['Faktor Aktivitas']])[0]\n",
        "        NewUser['Faktor Stress'] = label_encoder.fit_transform([NewUser['Faktor Stress']])[0]\n",
        "        NewUser['dislike_food'] = label_encoder.fit_transform([NewUser['dislike_food']])[0]\n",
        "      \n",
        "\n",
        "        # Calculate age\n",
        "        tanggal_lahir = NewUser['tanggal_lahir']\n",
        "        tanggal_sekarang = datetime.now().date()\n",
        "        tanggal_lahir = datetime.strptime(tanggal_lahir, '%d-%m-%Y').date()\n",
        "        selisih = tanggal_sekarang - tanggal_lahir\n",
        "        umur_tahun = selisih.days // 365\n",
        "\n",
        "        NewUser['Usia'] = umur_tahun\n",
        "        \n",
        "        # Remove Column New User\n",
        "        new_user_features = np.array([\n",
        "            NewUser['Usia'],\n",
        "            NewUser['BB'],\n",
        "            NewUser['TB'],\n",
        "            NewUser['Jenis Kelamin'],\n",
        "            NewUser['Riwayat Penyakit'],\n",
        "            NewUser['Riwayat Alergi'],\n",
        "            NewUser['Faktor Aktivitas'],\n",
        "            NewUser['Faktor Stress']\n",
        "        ])\n",
        "        \n",
        "        # Give Recomendation\n",
        "        RecomendationDinner.append(model3.predict(np.array([new_user_features]))[0])\n",
        "    \n",
        "    recommended_foods3 = []\n",
        "    for RecomendationDinner, NewUser in zip(RecomendationDinner, new_users):\n",
        "        recommended_food_index3 = np.argmax(RecomendationDinner)\n",
        "        recommended_food3 = LabelBinarizer3.classes_[recommended_food_index3]\n",
        "        \n",
        "        # Exclude dislike foods\n",
        "        if recommended_food3 == NewUser['dislike_food']:\n",
        "            # Regenerate Recomendation\n",
        "            RecomendationDinner[recommended_food_index3] = -np.inf\n",
        "            SecondHighestIndex3 = np.argmax(RecomendationDinner)\n",
        "            recommended_food3 = LabelBinarizer3.classes_[SecondHighestIndex3]\n",
        "        \n",
        "        recommended_foods3.append(recommended_food3)\n",
        "    \n",
        "    return recommended_foods3\n"
      ],
      "metadata": {
        "id": "N2W9fyDDX7cG"
      },
      "execution_count": 253,
      "outputs": []
    },
    {
      "cell_type": "code",
      "source": [
        "RecommendedDinner = DinnerRecomendation(new_users)\n",
        "print(\"Recommended Dinner:\", RecommendedDinner)"
      ],
      "metadata": {
        "colab": {
          "base_uri": "https://localhost:8080/"
        },
        "id": "q58eDWAvpz8M",
        "outputId": "3ed7c988-e6a4-47bc-bac9-073f4ab6291a"
      },
      "execution_count": 254,
      "outputs": [
        {
          "output_type": "stream",
          "name": "stderr",
          "text": [
            "/usr/local/lib/python3.10/dist-packages/keras/engine/training_v1.py:2359: UserWarning: `Model.state_updates` will be removed in a future version. This property should not be used in TensorFlow 2.0, as `updates` are applied automatically.\n",
            "  updates=self.state_updates,\n"
          ]
        },
        {
          "output_type": "stream",
          "name": "stdout",
          "text": [
            "Recommended Dinner: ['Sate Ayam']\n"
          ]
        }
      ]
    },
    {
      "cell_type": "markdown",
      "source": [
        "## **Snack Pagi**"
      ],
      "metadata": {
        "id": "WLeKUAPPqGuE"
      }
    },
    {
      "cell_type": "code",
      "source": [
        "# Encode Rekomendasi Breakfast\n",
        "LabelBinarizer4 = LabelBinarizer()\n",
        "RekomendasiEncoded4 = LabelBinarizer4.fit_transform(data['rekomendasi snack pagi'])"
      ],
      "metadata": {
        "id": "rCcFaHQEqWBV"
      },
      "execution_count": 255,
      "outputs": []
    },
    {
      "cell_type": "code",
      "source": [
        "# Combine features dan labels\n",
        "Features4 = data[['Usia', 'BB', 'TB', 'Jenis Kelamin', 'Riwayat Penyakit', 'Riwayat Alergi', 'Faktor Aktivitas', 'Faktor Stress']]\n",
        "Labels4 = RekomendasiEncoded4"
      ],
      "metadata": {
        "id": "CEqNUaFMqdtS"
      },
      "execution_count": 256,
      "outputs": []
    },
    {
      "cell_type": "code",
      "source": [
        "# Split data into training and testing sets\n",
        "train_features, test_features, train_labels, test_labels = train_test_split(\n",
        "    Features4, Labels4, test_size=0.2, random_state=42\n",
        ")"
      ],
      "metadata": {
        "id": "V0FL1JSlqpPX"
      },
      "execution_count": 257,
      "outputs": []
    },
    {
      "cell_type": "code",
      "source": [
        "# Make model\n",
        "model4 = tf.keras.Sequential([\n",
        "    tf.keras.layers.Dense(64, activation='relu', input_shape=(8,)),\n",
        "    tf.keras.layers.Dense(64, activation='relu'),\n",
        "    tf.keras.layers.Dense(len(LabelBinarizer4.classes_), activation='softmax')\n",
        "])"
      ],
      "metadata": {
        "id": "swcHs2_-queU"
      },
      "execution_count": 258,
      "outputs": []
    },
    {
      "cell_type": "code",
      "source": [
        "# Compile model\n",
        "model4.compile(optimizer='adam', loss='categorical_crossentropy')"
      ],
      "metadata": {
        "id": "8D4nGnS-q015"
      },
      "execution_count": 259,
      "outputs": []
    },
    {
      "cell_type": "code",
      "source": [
        "# Train model\n",
        "model4.fit(train_features, train_labels, epochs=10, batch_size=32)"
      ],
      "metadata": {
        "id": "8ZgW7OReq4ft",
        "colab": {
          "base_uri": "https://localhost:8080/"
        },
        "outputId": "2769af00-f86d-4c89-a3d6-017ff8a6d619"
      },
      "execution_count": 260,
      "outputs": [
        {
          "output_type": "stream",
          "name": "stdout",
          "text": [
            "Train on 164 samples\n",
            "Epoch 1/10\n",
            "164/164 [==============================] - 1s 6ms/sample - loss: 31.7320\n",
            "Epoch 2/10\n",
            "164/164 [==============================] - 0s 163us/sample - loss: 21.6838\n",
            "Epoch 3/10\n",
            "164/164 [==============================] - 0s 187us/sample - loss: 15.5376\n",
            "Epoch 4/10\n",
            "164/164 [==============================] - 0s 148us/sample - loss: 12.2917\n",
            "Epoch 5/10\n",
            "164/164 [==============================] - 0s 183us/sample - loss: 9.8880\n",
            "Epoch 6/10\n",
            "164/164 [==============================] - 0s 216us/sample - loss: 8.1476\n",
            "Epoch 7/10\n",
            "164/164 [==============================] - 0s 164us/sample - loss: 6.9298\n",
            "Epoch 8/10\n",
            "164/164 [==============================] - 0s 176us/sample - loss: 6.0463\n",
            "Epoch 9/10\n",
            "164/164 [==============================] - 0s 188us/sample - loss: 5.3923\n",
            "Epoch 10/10\n",
            "164/164 [==============================] - 0s 182us/sample - loss: 4.9869\n"
          ]
        },
        {
          "output_type": "execute_result",
          "data": {
            "text/plain": [
              "<keras.callbacks.History at 0x7f2d7c2a72e0>"
            ]
          },
          "metadata": {},
          "execution_count": 260
        }
      ]
    },
    {
      "cell_type": "code",
      "source": [
        "def RecomendationSnackPagi(new_users):\n",
        "    RecomendationSnackPagi = []\n",
        "    label_encoder = LabelEncoder()\n",
        "    \n",
        "    for NewUser in new_users:\n",
        "        # Process New User\n",
        "        NewUser['Jenis Kelamin'] = label_encoder.fit_transform([NewUser['Jenis Kelamin']])[0]\n",
        "        NewUser['Riwayat Penyakit'] = label_encoder.fit_transform([NewUser['Riwayat Penyakit']])[0]\n",
        "        NewUser['Riwayat Alergi'] = label_encoder.fit_transform([NewUser['Riwayat Alergi']])[0]\n",
        "        NewUser['Faktor Aktivitas'] = label_encoder.fit_transform([NewUser['Faktor Aktivitas']])[0]\n",
        "        NewUser['Faktor Stress'] = label_encoder.fit_transform([NewUser['Faktor Stress']])[0]\n",
        "        NewUser['dislike_food'] = label_encoder.fit_transform([NewUser['dislike_food']])[0]\n",
        "      \n",
        "\n",
        "        # Calculate age\n",
        "        tanggal_lahir = NewUser['tanggal_lahir']\n",
        "        tanggal_sekarang = datetime.now().date()\n",
        "        tanggal_lahir = datetime.strptime(tanggal_lahir, '%d-%m-%Y').date()\n",
        "        selisih = tanggal_sekarang - tanggal_lahir\n",
        "        umur_tahun = selisih.days // 365\n",
        "\n",
        "        NewUser['Usia'] = umur_tahun        \n",
        "        # Remove Column New User\n",
        "        new_user_features = np.array([\n",
        "            NewUser['Usia'],\n",
        "            NewUser['BB'],\n",
        "            NewUser['TB'],\n",
        "            NewUser['Jenis Kelamin'],\n",
        "            NewUser['Riwayat Penyakit'],\n",
        "            NewUser['Riwayat Alergi'],\n",
        "            NewUser['Faktor Aktivitas'],\n",
        "            NewUser['Faktor Stress']\n",
        "        ])\n",
        "        \n",
        "        # Give Recomendation\n",
        "        RecomendationSnackPagi.append(model4.predict(np.array([new_user_features]))[0])\n",
        "    \n",
        "    recommended_foods4 = []\n",
        "    for RecomendationSnackPagi, NewUser in zip(RecomendationSnackPagi, new_users):\n",
        "        recommended_food_index4 = np.argmax(RecomendationSnackPagi)\n",
        "        recommended_food4 = LabelBinarizer4.classes_[recommended_food_index4]\n",
        "        \n",
        "        # Exclude dislike foods\n",
        "        if recommended_food4 == NewUser['dislike_food']:\n",
        "            # Regenerate Recomendation\n",
        "            RecomendationSnackPagi[recommended_food_index4] = -np.inf\n",
        "            SecondHighestIndex4 = np.argmax(RecomendationSnackPagi)\n",
        "            recommended_food4 = LabelBinarizer4.classes_[SecondHighestIndex4]\n",
        "        \n",
        "        recommended_foods4.append(recommended_food4)\n",
        "    \n",
        "    return recommended_foods4\n"
      ],
      "metadata": {
        "id": "bSSSfDQTzuZx"
      },
      "execution_count": 261,
      "outputs": []
    },
    {
      "cell_type": "code",
      "source": [
        "RecommendedSnackPagi = RecomendationSnackPagi(new_users)\n",
        "print(\"Recommended Snack Pagi:\", RecommendedSnackPagi)"
      ],
      "metadata": {
        "colab": {
          "base_uri": "https://localhost:8080/"
        },
        "id": "RF7LVO9M-LlD",
        "outputId": "8a7a90e9-45a5-4ca7-bd36-238155ab2bbf"
      },
      "execution_count": 262,
      "outputs": [
        {
          "output_type": "stream",
          "name": "stderr",
          "text": [
            "/usr/local/lib/python3.10/dist-packages/keras/engine/training_v1.py:2359: UserWarning: `Model.state_updates` will be removed in a future version. This property should not be used in TensorFlow 2.0, as `updates` are applied automatically.\n",
            "  updates=self.state_updates,\n"
          ]
        },
        {
          "output_type": "stream",
          "name": "stdout",
          "text": [
            "Recommended Snack Pagi: ['Pepaya, segar']\n"
          ]
        }
      ]
    },
    {
      "cell_type": "markdown",
      "source": [
        "## **Snack Siang**"
      ],
      "metadata": {
        "id": "MvOLBFiY_Jik"
      }
    },
    {
      "cell_type": "code",
      "source": [
        "# Encode Rekomendasi Breakfast\n",
        "LabelBinarizer5 = LabelBinarizer()\n",
        "RekomendasiEncoded5 = LabelBinarizer5.fit_transform(data['rekomendasi snack siang'])"
      ],
      "metadata": {
        "id": "vYkhx4uY_TM1"
      },
      "execution_count": 263,
      "outputs": []
    },
    {
      "cell_type": "code",
      "source": [
        "# Combine features dan labels\n",
        "Features5 = data[['Usia', 'BB', 'TB', 'Jenis Kelamin', 'Riwayat Penyakit', 'Riwayat Alergi', 'Faktor Aktivitas', 'Faktor Stress']]\n",
        "Labels5 = RekomendasiEncoded5"
      ],
      "metadata": {
        "id": "NW4HWqKS_l9W"
      },
      "execution_count": 264,
      "outputs": []
    },
    {
      "cell_type": "code",
      "source": [
        "# Split data into training and testing sets\n",
        "train_features, test_features, train_labels, test_labels = train_test_split(\n",
        "    Features5, Labels5, test_size=0.2, random_state=42\n",
        ")"
      ],
      "metadata": {
        "id": "fRuAlWrI_0LS"
      },
      "execution_count": 265,
      "outputs": []
    },
    {
      "cell_type": "code",
      "source": [
        "# Make model\n",
        "model5 = tf.keras.Sequential([\n",
        "    tf.keras.layers.Dense(64, activation='relu', input_shape=(8,)),\n",
        "    tf.keras.layers.Dense(64, activation='relu'),\n",
        "    tf.keras.layers.Dense(len(LabelBinarizer5.classes_), activation='softmax')\n",
        "])"
      ],
      "metadata": {
        "id": "LanVLbHz_7Tx"
      },
      "execution_count": 266,
      "outputs": []
    },
    {
      "cell_type": "code",
      "source": [
        "# Compile model\n",
        "model5.compile(optimizer='adam', loss='categorical_crossentropy')"
      ],
      "metadata": {
        "id": "Y8eLC3t7AE3u"
      },
      "execution_count": 267,
      "outputs": []
    },
    {
      "cell_type": "code",
      "source": [
        "# Train model\n",
        "model5.fit(train_features, train_labels, epochs=10, batch_size=32)"
      ],
      "metadata": {
        "colab": {
          "base_uri": "https://localhost:8080/"
        },
        "id": "lrOK0UHWAKkj",
        "outputId": "455d9c38-b6ac-4e91-92ed-30a1935cb7e5"
      },
      "execution_count": 268,
      "outputs": [
        {
          "output_type": "stream",
          "name": "stdout",
          "text": [
            "Train on 164 samples\n",
            "Epoch 1/10\n",
            "164/164 [==============================] - 1s 6ms/sample - loss: 29.6284\n",
            "Epoch 2/10\n",
            "164/164 [==============================] - 0s 213us/sample - loss: 18.8046\n",
            "Epoch 3/10\n",
            "164/164 [==============================] - 0s 203us/sample - loss: 13.2032\n",
            "Epoch 4/10\n",
            "164/164 [==============================] - 0s 197us/sample - loss: 10.0779\n",
            "Epoch 5/10\n",
            "164/164 [==============================] - 0s 214us/sample - loss: 8.0969\n",
            "Epoch 6/10\n",
            "164/164 [==============================] - 0s 194us/sample - loss: 6.7939\n",
            "Epoch 7/10\n",
            "164/164 [==============================] - 0s 191us/sample - loss: 5.9904\n",
            "Epoch 8/10\n",
            "164/164 [==============================] - 0s 213us/sample - loss: 5.3706\n",
            "Epoch 9/10\n",
            "164/164 [==============================] - 0s 148us/sample - loss: 4.9787\n",
            "Epoch 10/10\n",
            "164/164 [==============================] - 0s 182us/sample - loss: 4.8025\n"
          ]
        },
        {
          "output_type": "execute_result",
          "data": {
            "text/plain": [
              "<keras.callbacks.History at 0x7f2d6bbe7ca0>"
            ]
          },
          "metadata": {},
          "execution_count": 268
        }
      ]
    },
    {
      "cell_type": "code",
      "source": [
        "def RecomendationSnackSiang(new_users):\n",
        "    RecomendationSnackSiang = []\n",
        "    label_encoder = LabelEncoder()\n",
        "    \n",
        "    for NewUser in new_users:\n",
        "        # Process New User\n",
        "        NewUser['Jenis Kelamin'] = label_encoder.fit_transform([NewUser['Jenis Kelamin']])[0]\n",
        "        NewUser['Riwayat Penyakit'] = label_encoder.fit_transform([NewUser['Riwayat Penyakit']])[0]\n",
        "        NewUser['Riwayat Alergi'] = label_encoder.fit_transform([NewUser['Riwayat Alergi']])[0]\n",
        "        NewUser['Faktor Aktivitas'] = label_encoder.fit_transform([NewUser['Faktor Aktivitas']])[0]\n",
        "        NewUser['Faktor Stress'] = label_encoder.fit_transform([NewUser['Faktor Stress']])[0]\n",
        "        NewUser['dislike_food'] = label_encoder.fit_transform([NewUser['dislike_food']])[0]\n",
        "      \n",
        "\n",
        "        # Calculate age\n",
        "        tanggal_lahir = NewUser['tanggal_lahir']\n",
        "        tanggal_sekarang = datetime.now().date()\n",
        "        tanggal_lahir = datetime.strptime(tanggal_lahir, '%d-%m-%Y').date()\n",
        "        selisih = tanggal_sekarang - tanggal_lahir\n",
        "        umur_tahun = selisih.days // 365\n",
        "\n",
        "        NewUser['Usia'] = umur_tahun       \n",
        "        # Remove Column New User\n",
        "        new_user_features = np.array([\n",
        "            NewUser['Usia'],\n",
        "            NewUser['BB'],\n",
        "            NewUser['TB'],\n",
        "            NewUser['Jenis Kelamin'],\n",
        "            NewUser['Riwayat Penyakit'],\n",
        "            NewUser['Riwayat Alergi'],\n",
        "            NewUser['Faktor Aktivitas'],\n",
        "            NewUser['Faktor Stress']\n",
        "        ])\n",
        "        \n",
        "        # Give Recomendation\n",
        "        RecomendationSnackSiang.append(model5.predict(np.array([new_user_features]))[0])\n",
        "    \n",
        "    recommended_foods5 = []\n",
        "    for RecomendationSnackSiang, NewUser in zip(RecomendationSnackSiang, new_users):\n",
        "        recommended_food_index5 = np.argmax(RecomendationSnackSiang)\n",
        "        recommended_food5 = LabelBinarizer5.classes_[recommended_food_index5]\n",
        "        \n",
        "        # Exclude dislike foods\n",
        "        if recommended_food5 == NewUser['dislike_food']:\n",
        "            # Regenerate Recomendation\n",
        "            RecomendationSnackSiang[recommended_food_index5] = -np.inf\n",
        "            SecondHighestIndex5 = np.argmax(RecomendationSnackSiang)\n",
        "            recommended_food5 = LabelBinarizer5.classes_[SecondHighestIndex5]\n",
        "        \n",
        "        recommended_foods5.append(recommended_food5)\n",
        "    \n",
        "    return recommended_foods5\n"
      ],
      "metadata": {
        "id": "cvzIPTSrAQ9l"
      },
      "execution_count": 269,
      "outputs": []
    },
    {
      "cell_type": "code",
      "source": [
        "RecommendedSnackSiang = RecomendationSnackSiang(new_users)\n",
        "print(\"Recommended Snack Siang:\", RecommendedSnackSiang)"
      ],
      "metadata": {
        "colab": {
          "base_uri": "https://localhost:8080/"
        },
        "id": "K8lsiU6dBDMM",
        "outputId": "281309a6-0195-4984-81b6-2ac4e589e2e8"
      },
      "execution_count": 270,
      "outputs": [
        {
          "output_type": "stream",
          "name": "stderr",
          "text": [
            "/usr/local/lib/python3.10/dist-packages/keras/engine/training_v1.py:2359: UserWarning: `Model.state_updates` will be removed in a future version. This property should not be used in TensorFlow 2.0, as `updates` are applied automatically.\n",
            "  updates=self.state_updates,\n"
          ]
        },
        {
          "output_type": "stream",
          "name": "stdout",
          "text": [
            "Recommended Snack Siang: ['Wortel, kukus']\n"
          ]
        }
      ]
    },
    {
      "cell_type": "markdown",
      "source": [
        "## **List Recomendation**"
      ],
      "metadata": {
        "id": "AL_GpeUcBvmS"
      }
    },
    {
      "cell_type": "code",
      "source": [
        "recommended_foods1 = BreakfastRecomendation(new_users)\n",
        "recommended_foods2 = LunchRecomendation(new_users)\n",
        "recommended_foods3 = DinnerRecomendation(new_users)\n",
        "recommended_foods4 = RecomendationSnackPagi(new_users)\n",
        "recommended_foods5 = RecomendationSnackSiang(new_users)"
      ],
      "metadata": {
        "id": "FjJdIkNVCXaL"
      },
      "execution_count": 271,
      "outputs": []
    },
    {
      "cell_type": "code",
      "source": [
        "print(\"Recommended Breakfast:\", recommended_foods1)\n",
        "print(\"Recommended Lunch:\", recommended_foods2)\n",
        "print(\"Recommended Dinner:\", recommended_foods3)\n",
        "print(\"Recommended Snack Pagi:\", recommended_foods4)\n",
        "print(\"Recommended Snack Siang:\", recommended_foods5)"
      ],
      "metadata": {
        "colab": {
          "base_uri": "https://localhost:8080/"
        },
        "id": "Tz41CUqiDUXR",
        "outputId": "f860ff8e-d8de-4b8e-c70e-e68da697a5e5"
      },
      "execution_count": 272,
      "outputs": [
        {
          "output_type": "stream",
          "name": "stdout",
          "text": [
            "Recommended Breakfast: ['Jagung kuning pipil, rebus']\n",
            "Recommended Lunch: ['Ayam goreng kentucky, dada']\n",
            "Recommended Dinner: ['Sate Ayam']\n",
            "Recommended Snack Pagi: ['Pepaya, segar']\n",
            "Recommended Snack Siang: ['Wortel, kukus']\n"
          ]
        }
      ]
    }
  ],
  "metadata": {
    "colab": {
      "provenance": []
    },
    "kernelspec": {
      "display_name": "Python 3",
      "name": "python3"
    },
    "language_info": {
      "name": "python"
    }
  },
  "nbformat": 4,
  "nbformat_minor": 0
}
