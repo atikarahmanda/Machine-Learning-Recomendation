{
  "cells": [
    {
      "cell_type": "code",
      "execution_count": 54,
      "metadata": {
        "id": "yGCDbLZPzdHp",
        "colab": {
          "base_uri": "https://localhost:8080/"
        },
        "outputId": "7b93046f-55c9-43e8-9b75-e3d01fe64c57"
      },
      "outputs": [
        {
          "output_type": "stream",
          "name": "stdout",
          "text": [
            "Drive already mounted at /content/drive; to attempt to forcibly remount, call drive.mount(\"/content/drive\", force_remount=True).\n"
          ]
        }
      ],
      "source": [
        "from google.colab import drive\n",
        "drive.mount('/content/drive')"
      ]
    },
    {
      "cell_type": "code",
      "execution_count": 55,
      "metadata": {
        "id": "DxXN443c2lSD"
      },
      "outputs": [],
      "source": [
        "import tensorflow.compat.v1 as tf\n",
        "tf.disable_v2_behavior()\n",
        "from sklearn.preprocessing import LabelEncoder, LabelBinarizer\n",
        "from sklearn.model_selection import train_test_split\n",
        "import pandas as pd\n",
        "import numpy as np\n",
        "from tensorflow.keras.models import Sequential\n",
        "from tensorflow.keras.layers import Dense\n",
        "from datetime import datetime"
      ]
    },
    {
      "cell_type": "code",
      "execution_count": 56,
      "metadata": {
        "id": "fxcrCVaM2W-Y"
      },
      "outputs": [],
      "source": [
        "data=pd.read_csv('/content/drive/MyDrive/bangkit 3/dataset_penggunafull2.csv')\n",
        "# Convert the DataFrame to a dictionary\n",
        "#food_database = food_data.to_dict(orient='index')"
      ]
    },
    {
      "cell_type": "code",
      "source": [
        "data"
      ],
      "metadata": {
        "colab": {
          "base_uri": "https://localhost:8080/",
          "height": 676
        },
        "id": "59YtYXB5rzWH",
        "outputId": "6c2b4994-d89c-42f5-fca1-38fa0b3b7531"
      },
      "execution_count": 57,
      "outputs": [
        {
          "output_type": "execute_result",
          "data": {
            "text/plain": [
              "     Kode User  Usia  BB   TB Jenis Kelamin Riwayat Penyakit Riwayat Alergi  \\\n",
              "0            1    10  25  110             L             Maag         Kacang   \n",
              "1            2    20  55  150             P         Diabetes          Udang   \n",
              "2            3    30  58  155             L             Maag        Seafood   \n",
              "3            4    40  60  160             P         Diabetes              -   \n",
              "4            5    50  49  148             L                -              -   \n",
              "..         ...   ...  ..  ...           ...              ...            ...   \n",
              "200        201    41  83  180             L                -              -   \n",
              "201        202    46  85  182             P             maag      Susu Sapi   \n",
              "202        203    48  83  178             L                -          Udang   \n",
              "203        204    42  73  175             P             maag              -   \n",
              "204        205    44  86  183             L         diabetes         Kerang   \n",
              "\n",
              "              Faktor Aktivitas       Faktor Stress      rekomendasi breakfast  \\\n",
              "0    Istirahat di tempat tidur     Tidak Ada stres       Soto madura, masakan   \n",
              "1                 Kerja ringan         Stres Berat                   GadoGado   \n",
              "2                  Kerja berat        Stres Sedang              Ketupat ketan   \n",
              "3                 Kerja ringan        Stres Sedang                  Sate Ayam   \n",
              "4                  Kerja berat         Stres Berat                   Ketoprak   \n",
              "..                         ...                 ...                        ...   \n",
              "200               Kerja sedang  Stres Sangat Berat              Gulai kambing   \n",
              "201                Kerja berat        Stres Sedang        Gulai ikan, masakan   \n",
              "202         Kerja berat sekali        Stres Ringan         Ikan Mujahir pepes   \n",
              "203        Kerja sangat ringan        Stres Ringan                 Nasi gurih   \n",
              "204               Kerja ringan        Stres Sedang  Ayam goreng pioneer, dada   \n",
              "\n",
              "              rekomendasi lunch          rekomendasi dinner  \\\n",
              "0    Jagung kuning pipil, rebus        Soto jeroan, masakan   \n",
              "1                      Nasi tim         Soto kudus, masakan   \n",
              "2          Sop kambing, masakan      Beef teriyaki, masakan   \n",
              "3                     Sate Ayam                  Nasi gurih   \n",
              "4             Mie pangsit basah      Ayam taliwang, masakan   \n",
              "..                          ...                         ...   \n",
              "200         Ketan hitam, matang                      Pempek   \n",
              "201  Ayam goreng pasundan, dada  Jagung kuning pipil, rebus   \n",
              "202   Ayam goreng pioneer, dada  Ayam goreng sukabumi, dada   \n",
              "203  Ayam goreng Kentucky, paha          Sop konro, masakan   \n",
              "204  Telur ayam, dadar, masakan              Pempek kelesan   \n",
              "\n",
              "             rekomendasi snack pagi     rekomendasi snack siang  \n",
              "0                      Bayam, rebus                Salak, segar  \n",
              "1             Asinan Bogor, sayuran          Pisang tujuh bulan  \n",
              "2        Daun kacang panjang, kukus          Paria putih, kukus  \n",
              "3                  Susu sapi, segar           Daun katuk, rebus  \n",
              "4              Daun singkong, rebus                Matoa, segar  \n",
              "..                              ...                         ...  \n",
              "200            Daun singkong, rebus               Buncis, rebus  \n",
              "201               Sawo duren, segar        Mentimun Suri, segar  \n",
              "202            Daun singkong, rebus  Daun kacang panjang, kukus  \n",
              "203                   Wortel, kukus                Taoge, seduh  \n",
              "204  Pisang mas bali ampenan, segar                Bayam, rebus  \n",
              "\n",
              "[205 rows x 14 columns]"
            ],
            "text/html": [
              "\n",
              "  <div id=\"df-fd491890-186b-47d5-9e95-c287895f9107\">\n",
              "    <div class=\"colab-df-container\">\n",
              "      <div>\n",
              "<style scoped>\n",
              "    .dataframe tbody tr th:only-of-type {\n",
              "        vertical-align: middle;\n",
              "    }\n",
              "\n",
              "    .dataframe tbody tr th {\n",
              "        vertical-align: top;\n",
              "    }\n",
              "\n",
              "    .dataframe thead th {\n",
              "        text-align: right;\n",
              "    }\n",
              "</style>\n",
              "<table border=\"1\" class=\"dataframe\">\n",
              "  <thead>\n",
              "    <tr style=\"text-align: right;\">\n",
              "      <th></th>\n",
              "      <th>Kode User</th>\n",
              "      <th>Usia</th>\n",
              "      <th>BB</th>\n",
              "      <th>TB</th>\n",
              "      <th>Jenis Kelamin</th>\n",
              "      <th>Riwayat Penyakit</th>\n",
              "      <th>Riwayat Alergi</th>\n",
              "      <th>Faktor Aktivitas</th>\n",
              "      <th>Faktor Stress</th>\n",
              "      <th>rekomendasi breakfast</th>\n",
              "      <th>rekomendasi lunch</th>\n",
              "      <th>rekomendasi dinner</th>\n",
              "      <th>rekomendasi snack pagi</th>\n",
              "      <th>rekomendasi snack siang</th>\n",
              "    </tr>\n",
              "  </thead>\n",
              "  <tbody>\n",
              "    <tr>\n",
              "      <th>0</th>\n",
              "      <td>1</td>\n",
              "      <td>10</td>\n",
              "      <td>25</td>\n",
              "      <td>110</td>\n",
              "      <td>L</td>\n",
              "      <td>Maag</td>\n",
              "      <td>Kacang</td>\n",
              "      <td>Istirahat di tempat tidur</td>\n",
              "      <td>Tidak Ada stres</td>\n",
              "      <td>Soto madura, masakan</td>\n",
              "      <td>Jagung kuning pipil, rebus</td>\n",
              "      <td>Soto jeroan, masakan</td>\n",
              "      <td>Bayam, rebus</td>\n",
              "      <td>Salak, segar</td>\n",
              "    </tr>\n",
              "    <tr>\n",
              "      <th>1</th>\n",
              "      <td>2</td>\n",
              "      <td>20</td>\n",
              "      <td>55</td>\n",
              "      <td>150</td>\n",
              "      <td>P</td>\n",
              "      <td>Diabetes</td>\n",
              "      <td>Udang</td>\n",
              "      <td>Kerja ringan</td>\n",
              "      <td>Stres Berat</td>\n",
              "      <td>GadoGado</td>\n",
              "      <td>Nasi tim</td>\n",
              "      <td>Soto kudus, masakan</td>\n",
              "      <td>Asinan Bogor, sayuran</td>\n",
              "      <td>Pisang tujuh bulan</td>\n",
              "    </tr>\n",
              "    <tr>\n",
              "      <th>2</th>\n",
              "      <td>3</td>\n",
              "      <td>30</td>\n",
              "      <td>58</td>\n",
              "      <td>155</td>\n",
              "      <td>L</td>\n",
              "      <td>Maag</td>\n",
              "      <td>Seafood</td>\n",
              "      <td>Kerja berat</td>\n",
              "      <td>Stres Sedang</td>\n",
              "      <td>Ketupat ketan</td>\n",
              "      <td>Sop kambing, masakan</td>\n",
              "      <td>Beef teriyaki, masakan</td>\n",
              "      <td>Daun kacang panjang, kukus</td>\n",
              "      <td>Paria putih, kukus</td>\n",
              "    </tr>\n",
              "    <tr>\n",
              "      <th>3</th>\n",
              "      <td>4</td>\n",
              "      <td>40</td>\n",
              "      <td>60</td>\n",
              "      <td>160</td>\n",
              "      <td>P</td>\n",
              "      <td>Diabetes</td>\n",
              "      <td>-</td>\n",
              "      <td>Kerja ringan</td>\n",
              "      <td>Stres Sedang</td>\n",
              "      <td>Sate Ayam</td>\n",
              "      <td>Sate Ayam</td>\n",
              "      <td>Nasi gurih</td>\n",
              "      <td>Susu sapi, segar</td>\n",
              "      <td>Daun katuk, rebus</td>\n",
              "    </tr>\n",
              "    <tr>\n",
              "      <th>4</th>\n",
              "      <td>5</td>\n",
              "      <td>50</td>\n",
              "      <td>49</td>\n",
              "      <td>148</td>\n",
              "      <td>L</td>\n",
              "      <td>-</td>\n",
              "      <td>-</td>\n",
              "      <td>Kerja berat</td>\n",
              "      <td>Stres Berat</td>\n",
              "      <td>Ketoprak</td>\n",
              "      <td>Mie pangsit basah</td>\n",
              "      <td>Ayam taliwang, masakan</td>\n",
              "      <td>Daun singkong, rebus</td>\n",
              "      <td>Matoa, segar</td>\n",
              "    </tr>\n",
              "    <tr>\n",
              "      <th>...</th>\n",
              "      <td>...</td>\n",
              "      <td>...</td>\n",
              "      <td>...</td>\n",
              "      <td>...</td>\n",
              "      <td>...</td>\n",
              "      <td>...</td>\n",
              "      <td>...</td>\n",
              "      <td>...</td>\n",
              "      <td>...</td>\n",
              "      <td>...</td>\n",
              "      <td>...</td>\n",
              "      <td>...</td>\n",
              "      <td>...</td>\n",
              "      <td>...</td>\n",
              "    </tr>\n",
              "    <tr>\n",
              "      <th>200</th>\n",
              "      <td>201</td>\n",
              "      <td>41</td>\n",
              "      <td>83</td>\n",
              "      <td>180</td>\n",
              "      <td>L</td>\n",
              "      <td>-</td>\n",
              "      <td>-</td>\n",
              "      <td>Kerja sedang</td>\n",
              "      <td>Stres Sangat Berat</td>\n",
              "      <td>Gulai kambing</td>\n",
              "      <td>Ketan hitam, matang</td>\n",
              "      <td>Pempek</td>\n",
              "      <td>Daun singkong, rebus</td>\n",
              "      <td>Buncis, rebus</td>\n",
              "    </tr>\n",
              "    <tr>\n",
              "      <th>201</th>\n",
              "      <td>202</td>\n",
              "      <td>46</td>\n",
              "      <td>85</td>\n",
              "      <td>182</td>\n",
              "      <td>P</td>\n",
              "      <td>maag</td>\n",
              "      <td>Susu Sapi</td>\n",
              "      <td>Kerja berat</td>\n",
              "      <td>Stres Sedang</td>\n",
              "      <td>Gulai ikan, masakan</td>\n",
              "      <td>Ayam goreng pasundan, dada</td>\n",
              "      <td>Jagung kuning pipil, rebus</td>\n",
              "      <td>Sawo duren, segar</td>\n",
              "      <td>Mentimun Suri, segar</td>\n",
              "    </tr>\n",
              "    <tr>\n",
              "      <th>202</th>\n",
              "      <td>203</td>\n",
              "      <td>48</td>\n",
              "      <td>83</td>\n",
              "      <td>178</td>\n",
              "      <td>L</td>\n",
              "      <td>-</td>\n",
              "      <td>Udang</td>\n",
              "      <td>Kerja berat sekali</td>\n",
              "      <td>Stres Ringan</td>\n",
              "      <td>Ikan Mujahir pepes</td>\n",
              "      <td>Ayam goreng pioneer, dada</td>\n",
              "      <td>Ayam goreng sukabumi, dada</td>\n",
              "      <td>Daun singkong, rebus</td>\n",
              "      <td>Daun kacang panjang, kukus</td>\n",
              "    </tr>\n",
              "    <tr>\n",
              "      <th>203</th>\n",
              "      <td>204</td>\n",
              "      <td>42</td>\n",
              "      <td>73</td>\n",
              "      <td>175</td>\n",
              "      <td>P</td>\n",
              "      <td>maag</td>\n",
              "      <td>-</td>\n",
              "      <td>Kerja sangat ringan</td>\n",
              "      <td>Stres Ringan</td>\n",
              "      <td>Nasi gurih</td>\n",
              "      <td>Ayam goreng Kentucky, paha</td>\n",
              "      <td>Sop konro, masakan</td>\n",
              "      <td>Wortel, kukus</td>\n",
              "      <td>Taoge, seduh</td>\n",
              "    </tr>\n",
              "    <tr>\n",
              "      <th>204</th>\n",
              "      <td>205</td>\n",
              "      <td>44</td>\n",
              "      <td>86</td>\n",
              "      <td>183</td>\n",
              "      <td>L</td>\n",
              "      <td>diabetes</td>\n",
              "      <td>Kerang</td>\n",
              "      <td>Kerja ringan</td>\n",
              "      <td>Stres Sedang</td>\n",
              "      <td>Ayam goreng pioneer, dada</td>\n",
              "      <td>Telur ayam, dadar, masakan</td>\n",
              "      <td>Pempek kelesan</td>\n",
              "      <td>Pisang mas bali ampenan, segar</td>\n",
              "      <td>Bayam, rebus</td>\n",
              "    </tr>\n",
              "  </tbody>\n",
              "</table>\n",
              "<p>205 rows × 14 columns</p>\n",
              "</div>\n",
              "      <button class=\"colab-df-convert\" onclick=\"convertToInteractive('df-fd491890-186b-47d5-9e95-c287895f9107')\"\n",
              "              title=\"Convert this dataframe to an interactive table.\"\n",
              "              style=\"display:none;\">\n",
              "        \n",
              "  <svg xmlns=\"http://www.w3.org/2000/svg\" height=\"24px\"viewBox=\"0 0 24 24\"\n",
              "       width=\"24px\">\n",
              "    <path d=\"M0 0h24v24H0V0z\" fill=\"none\"/>\n",
              "    <path d=\"M18.56 5.44l.94 2.06.94-2.06 2.06-.94-2.06-.94-.94-2.06-.94 2.06-2.06.94zm-11 1L8.5 8.5l.94-2.06 2.06-.94-2.06-.94L8.5 2.5l-.94 2.06-2.06.94zm10 10l.94 2.06.94-2.06 2.06-.94-2.06-.94-.94-2.06-.94 2.06-2.06.94z\"/><path d=\"M17.41 7.96l-1.37-1.37c-.4-.4-.92-.59-1.43-.59-.52 0-1.04.2-1.43.59L10.3 9.45l-7.72 7.72c-.78.78-.78 2.05 0 2.83L4 21.41c.39.39.9.59 1.41.59.51 0 1.02-.2 1.41-.59l7.78-7.78 2.81-2.81c.8-.78.8-2.07 0-2.86zM5.41 20L4 18.59l7.72-7.72 1.47 1.35L5.41 20z\"/>\n",
              "  </svg>\n",
              "      </button>\n",
              "      \n",
              "  <style>\n",
              "    .colab-df-container {\n",
              "      display:flex;\n",
              "      flex-wrap:wrap;\n",
              "      gap: 12px;\n",
              "    }\n",
              "\n",
              "    .colab-df-convert {\n",
              "      background-color: #E8F0FE;\n",
              "      border: none;\n",
              "      border-radius: 50%;\n",
              "      cursor: pointer;\n",
              "      display: none;\n",
              "      fill: #1967D2;\n",
              "      height: 32px;\n",
              "      padding: 0 0 0 0;\n",
              "      width: 32px;\n",
              "    }\n",
              "\n",
              "    .colab-df-convert:hover {\n",
              "      background-color: #E2EBFA;\n",
              "      box-shadow: 0px 1px 2px rgba(60, 64, 67, 0.3), 0px 1px 3px 1px rgba(60, 64, 67, 0.15);\n",
              "      fill: #174EA6;\n",
              "    }\n",
              "\n",
              "    [theme=dark] .colab-df-convert {\n",
              "      background-color: #3B4455;\n",
              "      fill: #D2E3FC;\n",
              "    }\n",
              "\n",
              "    [theme=dark] .colab-df-convert:hover {\n",
              "      background-color: #434B5C;\n",
              "      box-shadow: 0px 1px 3px 1px rgba(0, 0, 0, 0.15);\n",
              "      filter: drop-shadow(0px 1px 2px rgba(0, 0, 0, 0.3));\n",
              "      fill: #FFFFFF;\n",
              "    }\n",
              "  </style>\n",
              "\n",
              "      <script>\n",
              "        const buttonEl =\n",
              "          document.querySelector('#df-fd491890-186b-47d5-9e95-c287895f9107 button.colab-df-convert');\n",
              "        buttonEl.style.display =\n",
              "          google.colab.kernel.accessAllowed ? 'block' : 'none';\n",
              "\n",
              "        async function convertToInteractive(key) {\n",
              "          const element = document.querySelector('#df-fd491890-186b-47d5-9e95-c287895f9107');\n",
              "          const dataTable =\n",
              "            await google.colab.kernel.invokeFunction('convertToInteractive',\n",
              "                                                     [key], {});\n",
              "          if (!dataTable) return;\n",
              "\n",
              "          const docLinkHtml = 'Like what you see? Visit the ' +\n",
              "            '<a target=\"_blank\" href=https://colab.research.google.com/notebooks/data_table.ipynb>data table notebook</a>'\n",
              "            + ' to learn more about interactive tables.';\n",
              "          element.innerHTML = '';\n",
              "          dataTable['output_type'] = 'display_data';\n",
              "          await google.colab.output.renderOutput(dataTable, element);\n",
              "          const docLink = document.createElement('div');\n",
              "          docLink.innerHTML = docLinkHtml;\n",
              "          element.appendChild(docLink);\n",
              "        }\n",
              "      </script>\n",
              "    </div>\n",
              "  </div>\n",
              "  "
            ]
          },
          "metadata": {},
          "execution_count": 57
        }
      ]
    },
    {
      "cell_type": "markdown",
      "source": [
        "### **Read Data From Dataset**"
      ],
      "metadata": {
        "id": "yGbEuTzTi4uD"
      }
    },
    {
      "cell_type": "code",
      "source": [
        "# Encode Categorical Variabels\n",
        "LabelEncoder = LabelEncoder()\n",
        "data['Jenis Kelamin'] = LabelEncoder.fit_transform(data['Jenis Kelamin'])\n",
        "data['Riwayat Penyakit'] = LabelEncoder.fit_transform(data['Riwayat Penyakit'])\n",
        "data['Riwayat Alergi'] = LabelEncoder.fit_transform(data['Riwayat Alergi'])\n",
        "data['Faktor Aktivitas'] = LabelEncoder.fit_transform(data['Faktor Aktivitas'])\n",
        "data['Faktor Stress'] = LabelEncoder.fit_transform(data['Faktor Stress'])"
      ],
      "metadata": {
        "id": "M8uHOJMbVJ5J"
      },
      "execution_count": 58,
      "outputs": []
    },
    {
      "cell_type": "markdown",
      "source": [
        "## **Breakfast Recomendation**"
      ],
      "metadata": {
        "id": "7smwKNdcjA0b"
      }
    },
    {
      "cell_type": "code",
      "source": [
        "# Encode Rekomendasi Breakfast\n",
        "LabelBinarizer1 = LabelBinarizer()\n",
        "RekomendasiEncoded1 = LabelBinarizer1.fit_transform(data['rekomendasi breakfast'])"
      ],
      "metadata": {
        "id": "HWe-5_vkjRz7"
      },
      "execution_count": 59,
      "outputs": []
    },
    {
      "cell_type": "code",
      "source": [
        "# Combine features dan labels\n",
        "Features1 = data[['Usia', 'BB', 'TB', 'Jenis Kelamin', 'Riwayat Penyakit', 'Riwayat Alergi', 'Faktor Aktivitas', 'Faktor Stress']]\n",
        "Labels1 = RekomendasiEncoded1"
      ],
      "metadata": {
        "id": "bVatRN-TjVI6"
      },
      "execution_count": 60,
      "outputs": []
    },
    {
      "cell_type": "code",
      "source": [
        "# Split data into training and testing sets\n",
        "train_features, test_features, train_labels, test_labels = train_test_split(\n",
        "    Features1, Labels1, test_size=0.2, random_state=42\n",
        ")"
      ],
      "metadata": {
        "id": "OO3eDX4zjXmA"
      },
      "execution_count": 61,
      "outputs": []
    },
    {
      "cell_type": "code",
      "source": [
        "# Make model\n",
        "model1 = tf.keras.Sequential([\n",
        "    tf.keras.layers.Dense(64, activation='relu', input_shape=(8,)),\n",
        "    tf.keras.layers.Dense(64, activation='relu'),\n",
        "    tf.keras.layers.Dense(len(LabelBinarizer1.classes_), activation='softmax')\n",
        "])"
      ],
      "metadata": {
        "id": "Jv4IkVhXjZZ-"
      },
      "execution_count": 62,
      "outputs": []
    },
    {
      "cell_type": "code",
      "source": [
        "# Compile model\n",
        "model1.compile(optimizer='adam', loss='categorical_crossentropy')"
      ],
      "metadata": {
        "id": "xYdCkD6UjcAT"
      },
      "execution_count": 63,
      "outputs": []
    },
    {
      "cell_type": "code",
      "source": [
        "# Train model\n",
        "model1.fit(train_features, train_labels, epochs=10, batch_size=32)"
      ],
      "metadata": {
        "colab": {
          "base_uri": "https://localhost:8080/"
        },
        "id": "nZpOEvlrjduo",
        "outputId": "f82d2557-ddfc-4d92-c96b-14fff519d3eb"
      },
      "execution_count": 64,
      "outputs": [
        {
          "output_type": "stream",
          "name": "stdout",
          "text": [
            "Train on 164 samples\n",
            "Epoch 1/10\n",
            "164/164 [==============================] - 0s 819us/sample - loss: 31.5766\n",
            "Epoch 2/10\n",
            "164/164 [==============================] - 0s 69us/sample - loss: 21.0300\n",
            "Epoch 3/10\n",
            "164/164 [==============================] - 0s 60us/sample - loss: 15.9297\n",
            "Epoch 4/10\n",
            "164/164 [==============================] - 0s 62us/sample - loss: 12.7073\n",
            "Epoch 5/10\n",
            "164/164 [==============================] - 0s 81us/sample - loss: 9.8610\n",
            "Epoch 6/10\n",
            "164/164 [==============================] - 0s 93us/sample - loss: 8.2698\n",
            "Epoch 7/10\n",
            "164/164 [==============================] - 0s 60us/sample - loss: 7.1986\n",
            "Epoch 8/10\n",
            "164/164 [==============================] - 0s 86us/sample - loss: 6.4275\n",
            "Epoch 9/10\n",
            "164/164 [==============================] - 0s 85us/sample - loss: 5.8886\n",
            "Epoch 10/10\n",
            "164/164 [==============================] - 0s 64us/sample - loss: 5.4416\n"
          ]
        },
        {
          "output_type": "execute_result",
          "data": {
            "text/plain": [
              "<keras.callbacks.History at 0x7fc87c18c8b0>"
            ]
          },
          "metadata": {},
          "execution_count": 64
        }
      ]
    },
    {
      "cell_type": "code",
      "execution_count": 65,
      "metadata": {
        "id": "--8WHDIqzTK9"
      },
      "outputs": [],
      "source": [
        "from sklearn.preprocessing import LabelEncoder\n",
        "def BreakfastRecomendation(new_users):\n",
        "    RecomendationBreakfast = []\n",
        "    label_encoder = LabelEncoder()\n",
        "    \n",
        "    for NewUser in new_users:\n",
        "        # Process New User\n",
        "        NewUser['Jenis Kelamin'] = label_encoder.fit_transform([NewUser['Jenis Kelamin']])[0]\n",
        "        NewUser['Riwayat Penyakit'] = label_encoder.fit_transform([NewUser['Riwayat Penyakit']])[0]\n",
        "        NewUser['Riwayat Alergi'] = label_encoder.fit_transform([NewUser['Riwayat Alergi']])[0]\n",
        "        NewUser['Faktor Aktivitas'] = label_encoder.fit_transform([NewUser['Faktor Aktivitas']])[0]\n",
        "        NewUser['Faktor Stress'] = label_encoder.fit_transform([NewUser['Faktor Stress']])[0]\n",
        "        NewUser['dislike_food'] = label_encoder.fit_transform([NewUser['dislike_food']])[0]\n",
        "      \n",
        "\n",
        "        # Calculate age\n",
        "        tanggal_lahir = datetime.strptime(NewUser['Tanggal_Lahir'], '%d-%m-%Y').date()\n",
        "        selisih = datetime.now().date() - tanggal_lahir\n",
        "        umur = selisih.days // 365\n",
        "\n",
        "        NewUser['Usia'] = umur\n",
        "\n",
        "        # Remove Column New User\n",
        "        new_user_features = np.array([\n",
        "            NewUser['Usia'],\n",
        "            NewUser['BB'],\n",
        "            NewUser['TB'],\n",
        "            NewUser['Jenis Kelamin'],\n",
        "            NewUser['Riwayat Penyakit'],\n",
        "            NewUser['Riwayat Alergi'],\n",
        "            NewUser['Faktor Aktivitas'],\n",
        "            NewUser['Faktor Stress']\n",
        "        ])\n",
        "        \n",
        "        # Give Recomendation\n",
        "        RecomendationBreakfast.append(model1.predict(np.array([new_user_features]))[0])\n",
        "    \n",
        "    recommended_foods1 = []\n",
        "    for RecomendationBreakfast, NewUser in zip(RecomendationBreakfast, new_users):\n",
        "        recommended_food_index1 = np.argmax(RecomendationBreakfast)\n",
        "        recommended_food1 = LabelBinarizer1.classes_[recommended_food_index1]\n",
        "        \n",
        "        # Exclude dislike foods\n",
        "        if recommended_food1 == NewUser['dislike_food']:\n",
        "            # Regenerate Recomendation\n",
        "            RecomendationBreakfast[recommended_food_index1] = -np.inf\n",
        "            SecondHighestIndex1 = np.argmax(RecomendationBreakfast)\n",
        "            recommended_food1 = LabelBinarizer1.classes_[SecondHighestIndex1]\n",
        "        \n",
        "        recommended_foods1.append(recommended_food1)\n",
        "    \n",
        "    return recommended_foods1\n"
      ]
    },
    {
      "cell_type": "code",
      "source": [
        "new_users = [\n",
        "    {\n",
        "        'Tanggal_Lahir': '01-10-2002',\n",
        "        'BB': 58.2,\n",
        "        'TB': 160.3,\n",
        "        'Jenis Kelamin': 'L',\n",
        "        'Riwayat Penyakit': 'Klorestorol',\n",
        "        'Riwayat Alergi': 'Kerang',\n",
        "        'Faktor Aktivitas': 'Kerja ringan',\n",
        "        'Faktor Stress': 'Stres Sedang',\n",
        "        'dislike_food': 'kacang'\n",
        "    }\n",
        "]"
      ],
      "metadata": {
        "id": "dHuoCYCHbY-6"
      },
      "execution_count": 66,
      "outputs": []
    },
    {
      "cell_type": "code",
      "source": [
        "RecommendedBreakfast = BreakfastRecomendation(new_users)\n",
        "print(\"Recommended Breakfast:\", RecommendedBreakfast)"
      ],
      "metadata": {
        "colab": {
          "base_uri": "https://localhost:8080/"
        },
        "id": "yPcjw1XKkeeE",
        "outputId": "996c576d-d6bd-4332-abe6-593b397c305e"
      },
      "execution_count": 67,
      "outputs": [
        {
          "output_type": "stream",
          "name": "stdout",
          "text": [
            "Recommended Breakfast: ['Pempek tenggiri']\n"
          ]
        },
        {
          "output_type": "stream",
          "name": "stderr",
          "text": [
            "/usr/local/lib/python3.10/dist-packages/keras/engine/training_v1.py:2359: UserWarning: `Model.state_updates` will be removed in a future version. This property should not be used in TensorFlow 2.0, as `updates` are applied automatically.\n",
            "  updates=self.state_updates,\n"
          ]
        }
      ]
    },
    {
      "cell_type": "markdown",
      "source": [
        "## **LUNCH**"
      ],
      "metadata": {
        "id": "VXHB2bxHlmWu"
      }
    },
    {
      "cell_type": "code",
      "source": [
        "# Encode Rekomendasi Breakfast\n",
        "LabelBinarizer2 = LabelBinarizer()\n",
        "RekomendasiEncoded2 = LabelBinarizer2.fit_transform(data['rekomendasi lunch'])"
      ],
      "metadata": {
        "id": "ItX3UxZ4mrcu"
      },
      "execution_count": 68,
      "outputs": []
    },
    {
      "cell_type": "code",
      "source": [
        "# Combine features dan labels\n",
        "Features2 = data[['Usia', 'BB', 'TB', 'Jenis Kelamin', 'Riwayat Penyakit', 'Riwayat Alergi', 'Faktor Aktivitas', 'Faktor Stress']]\n",
        "Labels2 = RekomendasiEncoded2"
      ],
      "metadata": {
        "id": "C2VkNZAcmw68"
      },
      "execution_count": 69,
      "outputs": []
    },
    {
      "cell_type": "code",
      "source": [
        "# Split data into training and testing sets\n",
        "train_features, test_features, train_labels, test_labels = train_test_split(\n",
        "    Features2, Labels2, test_size=0.2, random_state=42\n",
        ")"
      ],
      "metadata": {
        "id": "RlhYsjjFm7l_"
      },
      "execution_count": 70,
      "outputs": []
    },
    {
      "cell_type": "code",
      "source": [
        "# Make model\n",
        "model2 = tf.keras.Sequential([\n",
        "    tf.keras.layers.Dense(64, activation='relu', input_shape=(8,)),\n",
        "    tf.keras.layers.Dense(64, activation='relu'),\n",
        "    tf.keras.layers.Dense(len(LabelBinarizer2.classes_), activation='softmax')\n",
        "])"
      ],
      "metadata": {
        "id": "zdnpT2vjnBwf"
      },
      "execution_count": 71,
      "outputs": []
    },
    {
      "cell_type": "code",
      "source": [
        "# Compile model\n",
        "model2.compile(optimizer='adam', loss='categorical_crossentropy')"
      ],
      "metadata": {
        "id": "bu9SvXWDnHpX"
      },
      "execution_count": 72,
      "outputs": []
    },
    {
      "cell_type": "code",
      "source": [
        "# Train model\n",
        "model2.fit(train_features, train_labels, epochs=10, batch_size=32)"
      ],
      "metadata": {
        "id": "sTe7G3GCnLb4",
        "outputId": "50f5056f-27c4-4690-ca2d-477e69b00c4e",
        "colab": {
          "base_uri": "https://localhost:8080/"
        }
      },
      "execution_count": 73,
      "outputs": [
        {
          "output_type": "stream",
          "name": "stdout",
          "text": [
            "Train on 164 samples\n",
            "Epoch 1/10\n",
            "164/164 [==============================] - 0s 1ms/sample - loss: 24.7004\n",
            "Epoch 2/10\n",
            "164/164 [==============================] - 0s 107us/sample - loss: 16.2417\n",
            "Epoch 3/10\n",
            "164/164 [==============================] - 0s 104us/sample - loss: 11.5563\n",
            "Epoch 4/10\n",
            "164/164 [==============================] - 0s 110us/sample - loss: 9.1081\n",
            "Epoch 5/10\n",
            "164/164 [==============================] - 0s 119us/sample - loss: 7.3208\n",
            "Epoch 6/10\n",
            "164/164 [==============================] - 0s 106us/sample - loss: 6.1592\n",
            "Epoch 7/10\n",
            "164/164 [==============================] - 0s 118us/sample - loss: 5.5110\n",
            "Epoch 8/10\n",
            "164/164 [==============================] - 0s 155us/sample - loss: 5.1785\n",
            "Epoch 9/10\n",
            "164/164 [==============================] - 0s 146us/sample - loss: 4.8515\n",
            "Epoch 10/10\n",
            "164/164 [==============================] - 0s 143us/sample - loss: 4.6176\n"
          ]
        },
        {
          "output_type": "execute_result",
          "data": {
            "text/plain": [
              "<keras.callbacks.History at 0x7fc87c224250>"
            ]
          },
          "metadata": {},
          "execution_count": 73
        }
      ]
    },
    {
      "cell_type": "code",
      "source": [
        "def LunchRecomendation(new_users):\n",
        "    RecomendationLunch = []\n",
        "    label_encoder = LabelEncoder()\n",
        "    \n",
        "    for NewUser in new_users:\n",
        "        # Process New User\n",
        "        NewUser['Jenis Kelamin'] = label_encoder.fit_transform([NewUser['Jenis Kelamin']])[0]\n",
        "        NewUser['Riwayat Penyakit'] = label_encoder.fit_transform([NewUser['Riwayat Penyakit']])[0]\n",
        "        NewUser['Riwayat Alergi'] = label_encoder.fit_transform([NewUser['Riwayat Alergi']])[0]\n",
        "        NewUser['Faktor Aktivitas'] = label_encoder.fit_transform([NewUser['Faktor Aktivitas']])[0]\n",
        "        NewUser['Faktor Stress'] = label_encoder.fit_transform([NewUser['Faktor Stress']])[0]\n",
        "        NewUser['dislike_food'] = label_encoder.fit_transform([NewUser['dislike_food']])[0]\n",
        "      \n",
        "\n",
        "        # Calculate age\n",
        "        tanggal_lahir = datetime.strptime(NewUser['Tanggal_Lahir'], '%d-%m-%Y').date()\n",
        "        selisih = datetime.now().date() - tanggal_lahir\n",
        "        umur = selisih.days // 365\n",
        "\n",
        "        NewUser['Usia'] = umur\n",
        "\n",
        "\n",
        "        # Remove Column New User\n",
        "        new_user_features = np.array([\n",
        "            NewUser['Usia'],\n",
        "            NewUser['BB'],\n",
        "            NewUser['TB'],\n",
        "            NewUser['Jenis Kelamin'],\n",
        "            NewUser['Riwayat Penyakit'],\n",
        "            NewUser['Riwayat Alergi'],\n",
        "            NewUser['Faktor Aktivitas'],\n",
        "            NewUser['Faktor Stress']\n",
        "        ])\n",
        "        \n",
        "        # Give Recomendation\n",
        "        RecomendationLunch.append(model2.predict(np.array([new_user_features]))[0])\n",
        "    \n",
        "    recommended_foods2 = []\n",
        "    for RecomendationLunch, NewUser in zip(RecomendationLunch, new_users):\n",
        "        recommended_food_index2 = np.argmax(RecomendationLunch)\n",
        "        recommended_food2 = LabelBinarizer2.classes_[recommended_food_index2]\n",
        "        \n",
        "        # Exclude dislike foods\n",
        "        if recommended_food2 == NewUser['dislike_food']:\n",
        "            # Regenerate Recomendation\n",
        "            RecomendationLunch[recommended_food_index2] = -np.inf\n",
        "            SecondHighestIndex2 = np.argmax(RecomendationLunch)\n",
        "            recommended_food2 = LabelBinarizer2.classes_[SecondHighestIndex2]\n",
        "        \n",
        "        recommended_foods2.append(recommended_food2)\n",
        "    \n",
        "    return recommended_foods2\n"
      ],
      "metadata": {
        "id": "nYw50fGZtuub"
      },
      "execution_count": 74,
      "outputs": []
    },
    {
      "cell_type": "code",
      "source": [
        "RecommendedLunch = LunchRecomendation(new_users)\n",
        "print(\"Recommended Lunch:\", RecommendedLunch)"
      ],
      "metadata": {
        "colab": {
          "base_uri": "https://localhost:8080/"
        },
        "id": "VzzkpQYUl11t",
        "outputId": "56cb2a08-83eb-40ff-f459-be6f5bcd0375"
      },
      "execution_count": 75,
      "outputs": [
        {
          "output_type": "stream",
          "name": "stdout",
          "text": [
            "Recommended Lunch: ['Ayam goreng church,texas paha']\n"
          ]
        },
        {
          "output_type": "stream",
          "name": "stderr",
          "text": [
            "/usr/local/lib/python3.10/dist-packages/keras/engine/training_v1.py:2359: UserWarning: `Model.state_updates` will be removed in a future version. This property should not be used in TensorFlow 2.0, as `updates` are applied automatically.\n",
            "  updates=self.state_updates,\n"
          ]
        }
      ]
    },
    {
      "cell_type": "markdown",
      "source": [
        "## **DINNER**"
      ],
      "metadata": {
        "id": "R6Hu6Hb0omLL"
      }
    },
    {
      "cell_type": "code",
      "source": [
        "# Encode Rekomendasi Breakfast\n",
        "LabelBinarizer3 = LabelBinarizer()\n",
        "RekomendasiEncoded3 = LabelBinarizer3.fit_transform(data['rekomendasi lunch'])"
      ],
      "metadata": {
        "id": "Cq5xqtbAosNf"
      },
      "execution_count": 76,
      "outputs": []
    },
    {
      "cell_type": "code",
      "source": [
        "# Combine features dan labels\n",
        "Features3 = data[['Usia', 'BB', 'TB', 'Jenis Kelamin', 'Riwayat Penyakit', 'Riwayat Alergi', 'Faktor Aktivitas', 'Faktor Stress']]\n",
        "Labels3 = RekomendasiEncoded3"
      ],
      "metadata": {
        "id": "GKYP80TDozp2"
      },
      "execution_count": 77,
      "outputs": []
    },
    {
      "cell_type": "code",
      "source": [
        "# Split data into training and testing sets\n",
        "train_features, test_features, train_labels, test_labels = train_test_split(\n",
        "    Features3, Labels3, test_size=0.2, random_state=42\n",
        ")"
      ],
      "metadata": {
        "id": "NkDagP8Do6Rm"
      },
      "execution_count": 78,
      "outputs": []
    },
    {
      "cell_type": "code",
      "source": [
        "# Make model\n",
        "model3 = tf.keras.Sequential([\n",
        "    tf.keras.layers.Dense(64, activation='relu', input_shape=(8,)),\n",
        "    tf.keras.layers.Dense(64, activation='relu'),\n",
        "    tf.keras.layers.Dense(len(LabelBinarizer3.classes_), activation='softmax')\n",
        "])"
      ],
      "metadata": {
        "id": "y5POa2yvo9JK"
      },
      "execution_count": 79,
      "outputs": []
    },
    {
      "cell_type": "code",
      "source": [
        "# Compile model\n",
        "model3.compile(optimizer='adam', loss='categorical_crossentropy')"
      ],
      "metadata": {
        "id": "dHHXVj86pEE5"
      },
      "execution_count": 80,
      "outputs": []
    },
    {
      "cell_type": "code",
      "source": [
        "# Train model\n",
        "model3.fit(train_features, train_labels, epochs=10, batch_size=32)"
      ],
      "metadata": {
        "colab": {
          "base_uri": "https://localhost:8080/"
        },
        "id": "5LlcgOwcpJ8A",
        "outputId": "82c9827e-b8fa-402a-8f06-064834e349c6"
      },
      "execution_count": 81,
      "outputs": [
        {
          "output_type": "stream",
          "name": "stdout",
          "text": [
            "Train on 164 samples\n",
            "Epoch 1/10\n",
            "164/164 [==============================] - 0s 1ms/sample - loss: 66.1406\n",
            "Epoch 2/10\n",
            "164/164 [==============================] - 0s 73us/sample - loss: 40.1986\n",
            "Epoch 3/10\n",
            "164/164 [==============================] - 0s 65us/sample - loss: 30.7491\n",
            "Epoch 4/10\n",
            "164/164 [==============================] - 0s 66us/sample - loss: 23.7574\n",
            "Epoch 5/10\n",
            "164/164 [==============================] - 0s 66us/sample - loss: 18.4108\n",
            "Epoch 6/10\n",
            "164/164 [==============================] - 0s 63us/sample - loss: 14.6500\n",
            "Epoch 7/10\n",
            "164/164 [==============================] - 0s 70us/sample - loss: 12.3913\n",
            "Epoch 8/10\n",
            "164/164 [==============================] - 0s 68us/sample - loss: 10.3572\n",
            "Epoch 9/10\n",
            "164/164 [==============================] - 0s 62us/sample - loss: 8.6140\n",
            "Epoch 10/10\n",
            "164/164 [==============================] - 0s 65us/sample - loss: 7.3628\n"
          ]
        },
        {
          "output_type": "execute_result",
          "data": {
            "text/plain": [
              "<keras.callbacks.History at 0x7fc884b5f7c0>"
            ]
          },
          "metadata": {},
          "execution_count": 81
        }
      ]
    },
    {
      "cell_type": "code",
      "source": [
        "def DinnerRecomendation(new_users):\n",
        "    RecomendationDinner = []\n",
        "    \n",
        "    label_encoder = LabelEncoder()\n",
        "    \n",
        "    for NewUser in new_users:\n",
        "        # Process New User\n",
        "        NewUser['Jenis Kelamin'] = label_encoder.fit_transform([NewUser['Jenis Kelamin']])[0]\n",
        "        NewUser['Riwayat Penyakit'] = label_encoder.fit_transform([NewUser['Riwayat Penyakit']])[0]\n",
        "        NewUser['Riwayat Alergi'] = label_encoder.fit_transform([NewUser['Riwayat Alergi']])[0]\n",
        "        NewUser['Faktor Aktivitas'] = label_encoder.fit_transform([NewUser['Faktor Aktivitas']])[0]\n",
        "        NewUser['Faktor Stress'] = label_encoder.fit_transform([NewUser['Faktor Stress']])[0]\n",
        "        NewUser['dislike_food'] = label_encoder.fit_transform([NewUser['dislike_food']])[0]\n",
        "      \n",
        "\n",
        "        # Calculate age\n",
        "        tanggal_lahir = datetime.strptime(NewUser['Tanggal_Lahir'], '%d-%m-%Y').date()\n",
        "        selisih = datetime.now().date() - tanggal_lahir\n",
        "        umur = selisih.days // 365\n",
        "\n",
        "        NewUser['Usia'] = umur\n",
        "        \n",
        "        # Remove Column New User\n",
        "        new_user_features = np.array([\n",
        "            NewUser['Usia'],\n",
        "            NewUser['BB'],\n",
        "            NewUser['TB'],\n",
        "            NewUser['Jenis Kelamin'],\n",
        "            NewUser['Riwayat Penyakit'],\n",
        "            NewUser['Riwayat Alergi'],\n",
        "            NewUser['Faktor Aktivitas'],\n",
        "            NewUser['Faktor Stress']\n",
        "        ])\n",
        "        \n",
        "        # Give Recomendation\n",
        "        RecomendationDinner.append(model3.predict(np.array([new_user_features]))[0])\n",
        "    \n",
        "    recommended_foods3 = []\n",
        "    for RecomendationDinner, NewUser in zip(RecomendationDinner, new_users):\n",
        "        recommended_food_index3 = np.argmax(RecomendationDinner)\n",
        "        recommended_food3 = LabelBinarizer3.classes_[recommended_food_index3]\n",
        "        \n",
        "        # Exclude dislike foods\n",
        "        if recommended_food3 == NewUser['dislike_food']:\n",
        "            # Regenerate Recomendation\n",
        "            RecomendationDinner[recommended_food_index3] = -np.inf\n",
        "            SecondHighestIndex3 = np.argmax(RecomendationDinner)\n",
        "            recommended_food3 = LabelBinarizer3.classes_[SecondHighestIndex3]\n",
        "        \n",
        "        recommended_foods3.append(recommended_food3)\n",
        "    \n",
        "    return recommended_foods3\n"
      ],
      "metadata": {
        "id": "N2W9fyDDX7cG"
      },
      "execution_count": 82,
      "outputs": []
    },
    {
      "cell_type": "code",
      "source": [
        "RecommendedDinner = DinnerRecomendation(new_users)\n",
        "print(\"Recommended Dinner:\", RecommendedDinner)"
      ],
      "metadata": {
        "colab": {
          "base_uri": "https://localhost:8080/"
        },
        "id": "q58eDWAvpz8M",
        "outputId": "ba237815-751d-4c9a-de32-e7468687204f"
      },
      "execution_count": 83,
      "outputs": [
        {
          "output_type": "stream",
          "name": "stdout",
          "text": [
            "Recommended Dinner: ['Gulai kambing']\n"
          ]
        },
        {
          "output_type": "stream",
          "name": "stderr",
          "text": [
            "/usr/local/lib/python3.10/dist-packages/keras/engine/training_v1.py:2359: UserWarning: `Model.state_updates` will be removed in a future version. This property should not be used in TensorFlow 2.0, as `updates` are applied automatically.\n",
            "  updates=self.state_updates,\n"
          ]
        }
      ]
    },
    {
      "cell_type": "markdown",
      "source": [
        "## **Snack Pagi**"
      ],
      "metadata": {
        "id": "WLeKUAPPqGuE"
      }
    },
    {
      "cell_type": "code",
      "source": [
        "# Encode Rekomendasi Breakfast\n",
        "LabelBinarizer4 = LabelBinarizer()\n",
        "RekomendasiEncoded4 = LabelBinarizer4.fit_transform(data['rekomendasi snack pagi'])"
      ],
      "metadata": {
        "id": "rCcFaHQEqWBV"
      },
      "execution_count": 84,
      "outputs": []
    },
    {
      "cell_type": "code",
      "source": [
        "# Combine features dan labels\n",
        "Features4 = data[['Usia', 'BB', 'TB', 'Jenis Kelamin', 'Riwayat Penyakit', 'Riwayat Alergi', 'Faktor Aktivitas', 'Faktor Stress']]\n",
        "Labels4 = RekomendasiEncoded4"
      ],
      "metadata": {
        "id": "CEqNUaFMqdtS"
      },
      "execution_count": 85,
      "outputs": []
    },
    {
      "cell_type": "code",
      "source": [
        "# Split data into training and testing sets\n",
        "train_features, test_features, train_labels, test_labels = train_test_split(\n",
        "    Features4, Labels4, test_size=0.2, random_state=42\n",
        ")"
      ],
      "metadata": {
        "id": "V0FL1JSlqpPX"
      },
      "execution_count": 86,
      "outputs": []
    },
    {
      "cell_type": "code",
      "source": [
        "# Make model\n",
        "model4 = tf.keras.Sequential([\n",
        "    tf.keras.layers.Dense(64, activation='relu', input_shape=(8,)),\n",
        "    tf.keras.layers.Dense(64, activation='relu'),\n",
        "    tf.keras.layers.Dense(len(LabelBinarizer4.classes_), activation='softmax')\n",
        "])"
      ],
      "metadata": {
        "id": "swcHs2_-queU"
      },
      "execution_count": 87,
      "outputs": []
    },
    {
      "cell_type": "code",
      "source": [
        "# Compile model\n",
        "model4.compile(optimizer='adam', loss='categorical_crossentropy')"
      ],
      "metadata": {
        "id": "8D4nGnS-q015"
      },
      "execution_count": 88,
      "outputs": []
    },
    {
      "cell_type": "code",
      "source": [
        "# Train model\n",
        "model4.fit(train_features, train_labels, epochs=10, batch_size=32)"
      ],
      "metadata": {
        "id": "8ZgW7OReq4ft",
        "colab": {
          "base_uri": "https://localhost:8080/"
        },
        "outputId": "6e16114a-c195-48f8-cfc1-f3c07ecfcbd1"
      },
      "execution_count": 89,
      "outputs": [
        {
          "output_type": "stream",
          "name": "stdout",
          "text": [
            "Train on 164 samples\n",
            "Epoch 1/10\n",
            "164/164 [==============================] - 0s 2ms/sample - loss: 30.9750\n",
            "Epoch 2/10\n",
            "164/164 [==============================] - 0s 79us/sample - loss: 21.1292\n",
            "Epoch 3/10\n",
            "164/164 [==============================] - 0s 88us/sample - loss: 14.8969\n",
            "Epoch 4/10\n",
            "164/164 [==============================] - 0s 77us/sample - loss: 11.3087\n",
            "Epoch 5/10\n",
            "164/164 [==============================] - 0s 69us/sample - loss: 8.6618\n",
            "Epoch 6/10\n",
            "164/164 [==============================] - 0s 67us/sample - loss: 6.8703\n",
            "Epoch 7/10\n",
            "164/164 [==============================] - 0s 64us/sample - loss: 5.8044\n",
            "Epoch 8/10\n",
            "164/164 [==============================] - 0s 63us/sample - loss: 5.3230\n",
            "Epoch 9/10\n",
            "164/164 [==============================] - 0s 66us/sample - loss: 5.0116\n",
            "Epoch 10/10\n",
            "164/164 [==============================] - 0s 65us/sample - loss: 4.8062\n"
          ]
        },
        {
          "output_type": "execute_result",
          "data": {
            "text/plain": [
              "<keras.callbacks.History at 0x7fc8859ab490>"
            ]
          },
          "metadata": {},
          "execution_count": 89
        }
      ]
    },
    {
      "cell_type": "code",
      "source": [
        "def RecomendationSnackPagi(new_users):\n",
        "    RecomendationSnackPagi = []\n",
        "    label_encoder = LabelEncoder()\n",
        "    \n",
        "    for NewUser in new_users:\n",
        "        # Process New User\n",
        "        NewUser['Jenis Kelamin'] = label_encoder.fit_transform([NewUser['Jenis Kelamin']])[0]\n",
        "        NewUser['Riwayat Penyakit'] = label_encoder.fit_transform([NewUser['Riwayat Penyakit']])[0]\n",
        "        NewUser['Riwayat Alergi'] = label_encoder.fit_transform([NewUser['Riwayat Alergi']])[0]\n",
        "        NewUser['Faktor Aktivitas'] = label_encoder.fit_transform([NewUser['Faktor Aktivitas']])[0]\n",
        "        NewUser['Faktor Stress'] = label_encoder.fit_transform([NewUser['Faktor Stress']])[0]\n",
        "        NewUser['dislike_food'] = label_encoder.fit_transform([NewUser['dislike_food']])[0]\n",
        "      \n",
        "\n",
        "        # Calculate age\n",
        "        tanggal_lahir = datetime.strptime(NewUser['Tanggal_Lahir'], '%d-%m-%Y').date()\n",
        "        selisih = datetime.now().date() - tanggal_lahir\n",
        "        umur = selisih.days // 365\n",
        "\n",
        "        NewUser['Usia'] = umur\n",
        "       \n",
        "        # Remove Column New User\n",
        "        new_user_features = np.array([\n",
        "            NewUser['Usia'],\n",
        "            NewUser['BB'],\n",
        "            NewUser['TB'],\n",
        "            NewUser['Jenis Kelamin'],\n",
        "            NewUser['Riwayat Penyakit'],\n",
        "            NewUser['Riwayat Alergi'],\n",
        "            NewUser['Faktor Aktivitas'],\n",
        "            NewUser['Faktor Stress']\n",
        "        ])\n",
        "        \n",
        "        # Give Recomendation\n",
        "        RecomendationSnackPagi.append(model4.predict(np.array([new_user_features]))[0])\n",
        "    \n",
        "    recommended_foods4 = []\n",
        "    for RecomendationSnackPagi, NewUser in zip(RecomendationSnackPagi, new_users):\n",
        "        recommended_food_index4 = np.argmax(RecomendationSnackPagi)\n",
        "        recommended_food4 = LabelBinarizer4.classes_[recommended_food_index4]\n",
        "        \n",
        "        # Exclude dislike foods\n",
        "        if recommended_food4 == NewUser['dislike_food']:\n",
        "            # Regenerate Recomendation\n",
        "            RecomendationSnackPagi[recommended_food_index4] = -np.inf\n",
        "            SecondHighestIndex4 = np.argmax(RecomendationSnackPagi)\n",
        "            recommended_food4 = LabelBinarizer4.classes_[SecondHighestIndex4]\n",
        "        \n",
        "        recommended_foods4.append(recommended_food4)\n",
        "    \n",
        "    return recommended_foods4\n"
      ],
      "metadata": {
        "id": "bSSSfDQTzuZx"
      },
      "execution_count": 90,
      "outputs": []
    },
    {
      "cell_type": "code",
      "source": [
        "RecommendedSnackPagi = RecomendationSnackPagi(new_users)\n",
        "print(\"Recommended Snack Pagi:\", RecommendedSnackPagi)"
      ],
      "metadata": {
        "colab": {
          "base_uri": "https://localhost:8080/"
        },
        "id": "RF7LVO9M-LlD",
        "outputId": "64f4246e-5a1e-446a-ec01-4da9f2ad7521"
      },
      "execution_count": 91,
      "outputs": [
        {
          "output_type": "stream",
          "name": "stdout",
          "text": [
            "Recommended Snack Pagi: ['Pisang mas bali ampenan, segar']\n"
          ]
        },
        {
          "output_type": "stream",
          "name": "stderr",
          "text": [
            "/usr/local/lib/python3.10/dist-packages/keras/engine/training_v1.py:2359: UserWarning: `Model.state_updates` will be removed in a future version. This property should not be used in TensorFlow 2.0, as `updates` are applied automatically.\n",
            "  updates=self.state_updates,\n"
          ]
        }
      ]
    },
    {
      "cell_type": "markdown",
      "source": [
        "## **Snack Siang**"
      ],
      "metadata": {
        "id": "MvOLBFiY_Jik"
      }
    },
    {
      "cell_type": "code",
      "source": [
        "# Encode Rekomendasi Breakfast\n",
        "LabelBinarizer5 = LabelBinarizer()\n",
        "RekomendasiEncoded5 = LabelBinarizer5.fit_transform(data['rekomendasi snack siang'])"
      ],
      "metadata": {
        "id": "vYkhx4uY_TM1"
      },
      "execution_count": 92,
      "outputs": []
    },
    {
      "cell_type": "code",
      "source": [
        "# Combine features dan labels\n",
        "Features5 = data[['Usia', 'BB', 'TB', 'Jenis Kelamin', 'Riwayat Penyakit', 'Riwayat Alergi', 'Faktor Aktivitas', 'Faktor Stress']]\n",
        "Labels5 = RekomendasiEncoded5"
      ],
      "metadata": {
        "id": "NW4HWqKS_l9W"
      },
      "execution_count": 93,
      "outputs": []
    },
    {
      "cell_type": "code",
      "source": [
        "# Split data into training and testing sets\n",
        "train_features, test_features, train_labels, test_labels = train_test_split(\n",
        "    Features5, Labels5, test_size=0.2, random_state=42\n",
        ")"
      ],
      "metadata": {
        "id": "fRuAlWrI_0LS"
      },
      "execution_count": 94,
      "outputs": []
    },
    {
      "cell_type": "code",
      "source": [
        "# Make model\n",
        "model5 = tf.keras.Sequential([\n",
        "    tf.keras.layers.Dense(64, activation='relu', input_shape=(8,)),\n",
        "    tf.keras.layers.Dense(64, activation='relu'),\n",
        "    tf.keras.layers.Dense(len(LabelBinarizer5.classes_), activation='softmax')\n",
        "])"
      ],
      "metadata": {
        "id": "LanVLbHz_7Tx"
      },
      "execution_count": 95,
      "outputs": []
    },
    {
      "cell_type": "code",
      "source": [
        "# Compile model\n",
        "model5.compile(optimizer='adam', loss='categorical_crossentropy')"
      ],
      "metadata": {
        "id": "Y8eLC3t7AE3u"
      },
      "execution_count": 96,
      "outputs": []
    },
    {
      "cell_type": "code",
      "source": [
        "# Train model\n",
        "model5.fit(train_features, train_labels, epochs=10, batch_size=32)"
      ],
      "metadata": {
        "colab": {
          "base_uri": "https://localhost:8080/"
        },
        "id": "lrOK0UHWAKkj",
        "outputId": "76334768-f609-4527-bf99-c62e826923cd"
      },
      "execution_count": 97,
      "outputs": [
        {
          "output_type": "stream",
          "name": "stdout",
          "text": [
            "Train on 164 samples\n",
            "Epoch 1/10\n",
            "164/164 [==============================] - 0s 2ms/sample - loss: 28.9632\n",
            "Epoch 2/10\n",
            "164/164 [==============================] - 0s 99us/sample - loss: 18.2628\n",
            "Epoch 3/10\n",
            "164/164 [==============================] - 0s 97us/sample - loss: 13.8243\n",
            "Epoch 4/10\n",
            "164/164 [==============================] - 0s 112us/sample - loss: 10.9000\n",
            "Epoch 5/10\n",
            "164/164 [==============================] - 0s 72us/sample - loss: 8.9659\n",
            "Epoch 6/10\n",
            "164/164 [==============================] - 0s 92us/sample - loss: 7.4399\n",
            "Epoch 7/10\n",
            "164/164 [==============================] - 0s 88us/sample - loss: 6.5478\n",
            "Epoch 8/10\n",
            "164/164 [==============================] - 0s 101us/sample - loss: 6.0916\n",
            "Epoch 9/10\n",
            "164/164 [==============================] - 0s 99us/sample - loss: 5.6707\n",
            "Epoch 10/10\n",
            "164/164 [==============================] - 0s 77us/sample - loss: 5.3450\n"
          ]
        },
        {
          "output_type": "execute_result",
          "data": {
            "text/plain": [
              "<keras.callbacks.History at 0x7fc912f02800>"
            ]
          },
          "metadata": {},
          "execution_count": 97
        }
      ]
    },
    {
      "cell_type": "code",
      "source": [
        "def RecomendationSnackSiang(new_users):\n",
        "    RecomendationSnackSiang = []\n",
        "    label_encoder = LabelEncoder()\n",
        "    \n",
        "    for NewUser in new_users:\n",
        "        # Process New User\n",
        "        NewUser['Jenis Kelamin'] = label_encoder.fit_transform([NewUser['Jenis Kelamin']])[0]\n",
        "        NewUser['Riwayat Penyakit'] = label_encoder.fit_transform([NewUser['Riwayat Penyakit']])[0]\n",
        "        NewUser['Riwayat Alergi'] = label_encoder.fit_transform([NewUser['Riwayat Alergi']])[0]\n",
        "        NewUser['Faktor Aktivitas'] = label_encoder.fit_transform([NewUser['Faktor Aktivitas']])[0]\n",
        "        NewUser['Faktor Stress'] = label_encoder.fit_transform([NewUser['Faktor Stress']])[0]\n",
        "        NewUser['dislike_food'] = label_encoder.fit_transform([NewUser['dislike_food']])[0]\n",
        "      \n",
        "\n",
        "        # Calculate age\n",
        "        tanggal_lahir = datetime.strptime(NewUser['Tanggal_Lahir'], '%d-%m-%Y').date()\n",
        "        selisih = datetime.now().date() - tanggal_lahir\n",
        "        umur = selisih.days // 365\n",
        "\n",
        "        NewUser['Usia'] = umur     \n",
        "         \n",
        "        # Remove Column New User\n",
        "        new_user_features = np.array([\n",
        "            NewUser['Usia'],\n",
        "            NewUser['BB'],\n",
        "            NewUser['TB'],\n",
        "            NewUser['Jenis Kelamin'],\n",
        "            NewUser['Riwayat Penyakit'],\n",
        "            NewUser['Riwayat Alergi'],\n",
        "            NewUser['Faktor Aktivitas'],\n",
        "            NewUser['Faktor Stress']\n",
        "        ])\n",
        "        \n",
        "        # Give Recomendation\n",
        "        RecomendationSnackSiang.append(model5.predict(np.array([new_user_features]))[0])\n",
        "    \n",
        "    recommended_foods5 = []\n",
        "    for RecomendationSnackSiang, NewUser in zip(RecomendationSnackSiang, new_users):\n",
        "        recommended_food_index5 = np.argmax(RecomendationSnackSiang)\n",
        "        recommended_food5 = LabelBinarizer5.classes_[recommended_food_index5]\n",
        "        \n",
        "        # Exclude dislike foods\n",
        "        if recommended_food5 == NewUser['dislike_food']:\n",
        "            # Regenerate Recomendation\n",
        "            RecomendationSnackSiang[recommended_food_index5] = -np.inf\n",
        "            SecondHighestIndex5 = np.argmax(RecomendationSnackSiang)\n",
        "            recommended_food5 = LabelBinarizer5.classes_[SecondHighestIndex5]\n",
        "        \n",
        "        recommended_foods5.append(recommended_food5)\n",
        "    \n",
        "    return recommended_foods5\n"
      ],
      "metadata": {
        "id": "cvzIPTSrAQ9l"
      },
      "execution_count": 98,
      "outputs": []
    },
    {
      "cell_type": "code",
      "source": [
        "RecommendedSnackSiang = RecomendationSnackSiang(new_users)\n",
        "print(\"Recommended Snack Siang:\", RecommendedSnackSiang)"
      ],
      "metadata": {
        "colab": {
          "base_uri": "https://localhost:8080/"
        },
        "id": "K8lsiU6dBDMM",
        "outputId": "ae9dd632-2957-4aa5-854e-ce000152cd4e"
      },
      "execution_count": 99,
      "outputs": [
        {
          "output_type": "stream",
          "name": "stdout",
          "text": [
            "Recommended Snack Siang: ['Buncis, rebus']\n"
          ]
        },
        {
          "output_type": "stream",
          "name": "stderr",
          "text": [
            "/usr/local/lib/python3.10/dist-packages/keras/engine/training_v1.py:2359: UserWarning: `Model.state_updates` will be removed in a future version. This property should not be used in TensorFlow 2.0, as `updates` are applied automatically.\n",
            "  updates=self.state_updates,\n"
          ]
        }
      ]
    },
    {
      "cell_type": "markdown",
      "source": [
        "## **List Recomendation**"
      ],
      "metadata": {
        "id": "AL_GpeUcBvmS"
      }
    },
    {
      "cell_type": "code",
      "source": [
        "recommended_foods1 = BreakfastRecomendation(new_users)\n",
        "recommended_foods2 = LunchRecomendation(new_users)\n",
        "recommended_foods3 = DinnerRecomendation(new_users)\n",
        "recommended_foods4 = RecomendationSnackPagi(new_users)\n",
        "recommended_foods5 = RecomendationSnackSiang(new_users)"
      ],
      "metadata": {
        "id": "FjJdIkNVCXaL"
      },
      "execution_count": 100,
      "outputs": []
    },
    {
      "cell_type": "code",
      "source": [
        "print(\"Recommended Breakfast:\", recommended_foods1)\n",
        "print(\"Recommended Lunch:\", recommended_foods2)\n",
        "print(\"Recommended Dinner:\", recommended_foods3)\n",
        "print(\"Recommended Snack Pagi:\", recommended_foods4)\n",
        "print(\"Recommended Snack Siang:\", recommended_foods5)"
      ],
      "metadata": {
        "colab": {
          "base_uri": "https://localhost:8080/"
        },
        "id": "Tz41CUqiDUXR",
        "outputId": "874f2ee2-484a-4f7e-9e4f-7c1dea198ec2"
      },
      "execution_count": 101,
      "outputs": [
        {
          "output_type": "stream",
          "name": "stdout",
          "text": [
            "Recommended Breakfast: ['Pempek tenggiri']\n",
            "Recommended Lunch: ['Ayam goreng church,texas paha']\n",
            "Recommended Dinner: ['Gulai kambing']\n",
            "Recommended Snack Pagi: ['Pisang mas bali ampenan, segar']\n",
            "Recommended Snack Siang: ['Buncis, rebus']\n"
          ]
        }
      ]
    }
  ],
  "metadata": {
    "colab": {
      "provenance": []
    },
    "kernelspec": {
      "display_name": "Python 3",
      "name": "python3"
    },
    "language_info": {
      "name": "python"
    }
  },
  "nbformat": 4,
  "nbformat_minor": 0
}
